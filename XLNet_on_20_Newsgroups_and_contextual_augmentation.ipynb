{
  "nbformat": 4,
  "nbformat_minor": 0,
  "metadata": {
    "colab": {
      "name": "XLNet on 20 Newsgroups and contextual augmentation.ipynb",
      "provenance": [],
      "collapsed_sections": [],
      "authorship_tag": "ABX9TyNHTldd2lvsZqK6X0SZUCyx",
      "include_colab_link": true
    },
    "kernelspec": {
      "name": "python3",
      "display_name": "Python 3"
    },
    "language_info": {
      "name": "python"
    },
    "accelerator": "GPU",
    "widgets": {
      "application/vnd.jupyter.widget-state+json": {
        "0c569f263d5b4e1cb6a4e4ed6b1cc1ec": {
          "model_module": "@jupyter-widgets/controls",
          "model_name": "HBoxModel",
          "state": {
            "_view_name": "HBoxView",
            "_dom_classes": [],
            "_model_name": "HBoxModel",
            "_view_module": "@jupyter-widgets/controls",
            "_model_module_version": "1.5.0",
            "_view_count": null,
            "_view_module_version": "1.5.0",
            "box_style": "",
            "layout": "IPY_MODEL_e515dda79731404fb62eacf140575851",
            "_model_module": "@jupyter-widgets/controls",
            "children": [
              "IPY_MODEL_5a391e939abc4d74954d1777b4e9219e",
              "IPY_MODEL_9c86770bbd4e4647ab56aec49f8c69c3"
            ]
          }
        },
        "e515dda79731404fb62eacf140575851": {
          "model_module": "@jupyter-widgets/base",
          "model_name": "LayoutModel",
          "state": {
            "_view_name": "LayoutView",
            "grid_template_rows": null,
            "right": null,
            "justify_content": null,
            "_view_module": "@jupyter-widgets/base",
            "overflow": null,
            "_model_module_version": "1.2.0",
            "_view_count": null,
            "flex_flow": null,
            "width": null,
            "min_width": null,
            "border": null,
            "align_items": null,
            "bottom": null,
            "_model_module": "@jupyter-widgets/base",
            "top": null,
            "grid_column": null,
            "overflow_y": null,
            "overflow_x": null,
            "grid_auto_flow": null,
            "grid_area": null,
            "grid_template_columns": null,
            "flex": null,
            "_model_name": "LayoutModel",
            "justify_items": null,
            "grid_row": null,
            "max_height": null,
            "align_content": null,
            "visibility": null,
            "align_self": null,
            "height": null,
            "min_height": null,
            "padding": null,
            "grid_auto_rows": null,
            "grid_gap": null,
            "max_width": null,
            "order": null,
            "_view_module_version": "1.2.0",
            "grid_template_areas": null,
            "object_position": null,
            "object_fit": null,
            "grid_auto_columns": null,
            "margin": null,
            "display": null,
            "left": null
          }
        },
        "5a391e939abc4d74954d1777b4e9219e": {
          "model_module": "@jupyter-widgets/controls",
          "model_name": "FloatProgressModel",
          "state": {
            "_view_name": "ProgressView",
            "style": "IPY_MODEL_c13d7f81b2f74dfa9b2620fcef24c023",
            "_dom_classes": [],
            "description": "Downloading: 100%",
            "_model_name": "FloatProgressModel",
            "bar_style": "success",
            "max": 798011,
            "_view_module": "@jupyter-widgets/controls",
            "_model_module_version": "1.5.0",
            "value": 798011,
            "_view_count": null,
            "_view_module_version": "1.5.0",
            "orientation": "horizontal",
            "min": 0,
            "description_tooltip": null,
            "_model_module": "@jupyter-widgets/controls",
            "layout": "IPY_MODEL_bb42f3b2d3f44935bbe70dfa3b276b74"
          }
        },
        "9c86770bbd4e4647ab56aec49f8c69c3": {
          "model_module": "@jupyter-widgets/controls",
          "model_name": "HTMLModel",
          "state": {
            "_view_name": "HTMLView",
            "style": "IPY_MODEL_0708f235dd18441784477f1cbd1b7ab3",
            "_dom_classes": [],
            "description": "",
            "_model_name": "HTMLModel",
            "placeholder": "​",
            "_view_module": "@jupyter-widgets/controls",
            "_model_module_version": "1.5.0",
            "value": " 798k/798k [00:00&lt;00:00, 6.03MB/s]",
            "_view_count": null,
            "_view_module_version": "1.5.0",
            "description_tooltip": null,
            "_model_module": "@jupyter-widgets/controls",
            "layout": "IPY_MODEL_675a9060b35f43549b3e8120f0fe138d"
          }
        },
        "c13d7f81b2f74dfa9b2620fcef24c023": {
          "model_module": "@jupyter-widgets/controls",
          "model_name": "ProgressStyleModel",
          "state": {
            "_view_name": "StyleView",
            "_model_name": "ProgressStyleModel",
            "description_width": "initial",
            "_view_module": "@jupyter-widgets/base",
            "_model_module_version": "1.5.0",
            "_view_count": null,
            "_view_module_version": "1.2.0",
            "bar_color": null,
            "_model_module": "@jupyter-widgets/controls"
          }
        },
        "bb42f3b2d3f44935bbe70dfa3b276b74": {
          "model_module": "@jupyter-widgets/base",
          "model_name": "LayoutModel",
          "state": {
            "_view_name": "LayoutView",
            "grid_template_rows": null,
            "right": null,
            "justify_content": null,
            "_view_module": "@jupyter-widgets/base",
            "overflow": null,
            "_model_module_version": "1.2.0",
            "_view_count": null,
            "flex_flow": null,
            "width": null,
            "min_width": null,
            "border": null,
            "align_items": null,
            "bottom": null,
            "_model_module": "@jupyter-widgets/base",
            "top": null,
            "grid_column": null,
            "overflow_y": null,
            "overflow_x": null,
            "grid_auto_flow": null,
            "grid_area": null,
            "grid_template_columns": null,
            "flex": null,
            "_model_name": "LayoutModel",
            "justify_items": null,
            "grid_row": null,
            "max_height": null,
            "align_content": null,
            "visibility": null,
            "align_self": null,
            "height": null,
            "min_height": null,
            "padding": null,
            "grid_auto_rows": null,
            "grid_gap": null,
            "max_width": null,
            "order": null,
            "_view_module_version": "1.2.0",
            "grid_template_areas": null,
            "object_position": null,
            "object_fit": null,
            "grid_auto_columns": null,
            "margin": null,
            "display": null,
            "left": null
          }
        },
        "0708f235dd18441784477f1cbd1b7ab3": {
          "model_module": "@jupyter-widgets/controls",
          "model_name": "DescriptionStyleModel",
          "state": {
            "_view_name": "StyleView",
            "_model_name": "DescriptionStyleModel",
            "description_width": "",
            "_view_module": "@jupyter-widgets/base",
            "_model_module_version": "1.5.0",
            "_view_count": null,
            "_view_module_version": "1.2.0",
            "_model_module": "@jupyter-widgets/controls"
          }
        },
        "675a9060b35f43549b3e8120f0fe138d": {
          "model_module": "@jupyter-widgets/base",
          "model_name": "LayoutModel",
          "state": {
            "_view_name": "LayoutView",
            "grid_template_rows": null,
            "right": null,
            "justify_content": null,
            "_view_module": "@jupyter-widgets/base",
            "overflow": null,
            "_model_module_version": "1.2.0",
            "_view_count": null,
            "flex_flow": null,
            "width": null,
            "min_width": null,
            "border": null,
            "align_items": null,
            "bottom": null,
            "_model_module": "@jupyter-widgets/base",
            "top": null,
            "grid_column": null,
            "overflow_y": null,
            "overflow_x": null,
            "grid_auto_flow": null,
            "grid_area": null,
            "grid_template_columns": null,
            "flex": null,
            "_model_name": "LayoutModel",
            "justify_items": null,
            "grid_row": null,
            "max_height": null,
            "align_content": null,
            "visibility": null,
            "align_self": null,
            "height": null,
            "min_height": null,
            "padding": null,
            "grid_auto_rows": null,
            "grid_gap": null,
            "max_width": null,
            "order": null,
            "_view_module_version": "1.2.0",
            "grid_template_areas": null,
            "object_position": null,
            "object_fit": null,
            "grid_auto_columns": null,
            "margin": null,
            "display": null,
            "left": null
          }
        },
        "6b3aed3923424e21b128f1b24077321b": {
          "model_module": "@jupyter-widgets/controls",
          "model_name": "HBoxModel",
          "state": {
            "_view_name": "HBoxView",
            "_dom_classes": [],
            "_model_name": "HBoxModel",
            "_view_module": "@jupyter-widgets/controls",
            "_model_module_version": "1.5.0",
            "_view_count": null,
            "_view_module_version": "1.5.0",
            "box_style": "",
            "layout": "IPY_MODEL_4ac69f6f00ee4fd299886494660ae112",
            "_model_module": "@jupyter-widgets/controls",
            "children": [
              "IPY_MODEL_71bd533bac444affb695ff48e07dde29",
              "IPY_MODEL_cc2ec6c7ce1a498085803b088efdc819"
            ]
          }
        },
        "4ac69f6f00ee4fd299886494660ae112": {
          "model_module": "@jupyter-widgets/base",
          "model_name": "LayoutModel",
          "state": {
            "_view_name": "LayoutView",
            "grid_template_rows": null,
            "right": null,
            "justify_content": null,
            "_view_module": "@jupyter-widgets/base",
            "overflow": null,
            "_model_module_version": "1.2.0",
            "_view_count": null,
            "flex_flow": null,
            "width": null,
            "min_width": null,
            "border": null,
            "align_items": null,
            "bottom": null,
            "_model_module": "@jupyter-widgets/base",
            "top": null,
            "grid_column": null,
            "overflow_y": null,
            "overflow_x": null,
            "grid_auto_flow": null,
            "grid_area": null,
            "grid_template_columns": null,
            "flex": null,
            "_model_name": "LayoutModel",
            "justify_items": null,
            "grid_row": null,
            "max_height": null,
            "align_content": null,
            "visibility": null,
            "align_self": null,
            "height": null,
            "min_height": null,
            "padding": null,
            "grid_auto_rows": null,
            "grid_gap": null,
            "max_width": null,
            "order": null,
            "_view_module_version": "1.2.0",
            "grid_template_areas": null,
            "object_position": null,
            "object_fit": null,
            "grid_auto_columns": null,
            "margin": null,
            "display": null,
            "left": null
          }
        },
        "71bd533bac444affb695ff48e07dde29": {
          "model_module": "@jupyter-widgets/controls",
          "model_name": "FloatProgressModel",
          "state": {
            "_view_name": "ProgressView",
            "style": "IPY_MODEL_fb95cba1842d4e2c973a622eea45f549",
            "_dom_classes": [],
            "description": "Downloading: 100%",
            "_model_name": "FloatProgressModel",
            "bar_style": "success",
            "max": 1382015,
            "_view_module": "@jupyter-widgets/controls",
            "_model_module_version": "1.5.0",
            "value": 1382015,
            "_view_count": null,
            "_view_module_version": "1.5.0",
            "orientation": "horizontal",
            "min": 0,
            "description_tooltip": null,
            "_model_module": "@jupyter-widgets/controls",
            "layout": "IPY_MODEL_c0ced896b44b4f57a4c20648d7016540"
          }
        },
        "cc2ec6c7ce1a498085803b088efdc819": {
          "model_module": "@jupyter-widgets/controls",
          "model_name": "HTMLModel",
          "state": {
            "_view_name": "HTMLView",
            "style": "IPY_MODEL_595f889d05f044f18f4180edf986b1e1",
            "_dom_classes": [],
            "description": "",
            "_model_name": "HTMLModel",
            "placeholder": "​",
            "_view_module": "@jupyter-widgets/controls",
            "_model_module_version": "1.5.0",
            "value": " 1.38M/1.38M [00:02&lt;00:00, 522kB/s]",
            "_view_count": null,
            "_view_module_version": "1.5.0",
            "description_tooltip": null,
            "_model_module": "@jupyter-widgets/controls",
            "layout": "IPY_MODEL_04bc2d0a30be41d39ded84b260cf205c"
          }
        },
        "fb95cba1842d4e2c973a622eea45f549": {
          "model_module": "@jupyter-widgets/controls",
          "model_name": "ProgressStyleModel",
          "state": {
            "_view_name": "StyleView",
            "_model_name": "ProgressStyleModel",
            "description_width": "initial",
            "_view_module": "@jupyter-widgets/base",
            "_model_module_version": "1.5.0",
            "_view_count": null,
            "_view_module_version": "1.2.0",
            "bar_color": null,
            "_model_module": "@jupyter-widgets/controls"
          }
        },
        "c0ced896b44b4f57a4c20648d7016540": {
          "model_module": "@jupyter-widgets/base",
          "model_name": "LayoutModel",
          "state": {
            "_view_name": "LayoutView",
            "grid_template_rows": null,
            "right": null,
            "justify_content": null,
            "_view_module": "@jupyter-widgets/base",
            "overflow": null,
            "_model_module_version": "1.2.0",
            "_view_count": null,
            "flex_flow": null,
            "width": null,
            "min_width": null,
            "border": null,
            "align_items": null,
            "bottom": null,
            "_model_module": "@jupyter-widgets/base",
            "top": null,
            "grid_column": null,
            "overflow_y": null,
            "overflow_x": null,
            "grid_auto_flow": null,
            "grid_area": null,
            "grid_template_columns": null,
            "flex": null,
            "_model_name": "LayoutModel",
            "justify_items": null,
            "grid_row": null,
            "max_height": null,
            "align_content": null,
            "visibility": null,
            "align_self": null,
            "height": null,
            "min_height": null,
            "padding": null,
            "grid_auto_rows": null,
            "grid_gap": null,
            "max_width": null,
            "order": null,
            "_view_module_version": "1.2.0",
            "grid_template_areas": null,
            "object_position": null,
            "object_fit": null,
            "grid_auto_columns": null,
            "margin": null,
            "display": null,
            "left": null
          }
        },
        "595f889d05f044f18f4180edf986b1e1": {
          "model_module": "@jupyter-widgets/controls",
          "model_name": "DescriptionStyleModel",
          "state": {
            "_view_name": "StyleView",
            "_model_name": "DescriptionStyleModel",
            "description_width": "",
            "_view_module": "@jupyter-widgets/base",
            "_model_module_version": "1.5.0",
            "_view_count": null,
            "_view_module_version": "1.2.0",
            "_model_module": "@jupyter-widgets/controls"
          }
        },
        "04bc2d0a30be41d39ded84b260cf205c": {
          "model_module": "@jupyter-widgets/base",
          "model_name": "LayoutModel",
          "state": {
            "_view_name": "LayoutView",
            "grid_template_rows": null,
            "right": null,
            "justify_content": null,
            "_view_module": "@jupyter-widgets/base",
            "overflow": null,
            "_model_module_version": "1.2.0",
            "_view_count": null,
            "flex_flow": null,
            "width": null,
            "min_width": null,
            "border": null,
            "align_items": null,
            "bottom": null,
            "_model_module": "@jupyter-widgets/base",
            "top": null,
            "grid_column": null,
            "overflow_y": null,
            "overflow_x": null,
            "grid_auto_flow": null,
            "grid_area": null,
            "grid_template_columns": null,
            "flex": null,
            "_model_name": "LayoutModel",
            "justify_items": null,
            "grid_row": null,
            "max_height": null,
            "align_content": null,
            "visibility": null,
            "align_self": null,
            "height": null,
            "min_height": null,
            "padding": null,
            "grid_auto_rows": null,
            "grid_gap": null,
            "max_width": null,
            "order": null,
            "_view_module_version": "1.2.0",
            "grid_template_areas": null,
            "object_position": null,
            "object_fit": null,
            "grid_auto_columns": null,
            "margin": null,
            "display": null,
            "left": null
          }
        },
        "a3367c89d149469b97ac267a6ff0a111": {
          "model_module": "@jupyter-widgets/controls",
          "model_name": "HBoxModel",
          "state": {
            "_view_name": "HBoxView",
            "_dom_classes": [],
            "_model_name": "HBoxModel",
            "_view_module": "@jupyter-widgets/controls",
            "_model_module_version": "1.5.0",
            "_view_count": null,
            "_view_module_version": "1.5.0",
            "box_style": "",
            "layout": "IPY_MODEL_8e23b2910d51458c9d4fa13456174cd8",
            "_model_module": "@jupyter-widgets/controls",
            "children": [
              "IPY_MODEL_0b5f080a6b2c475f824819d82c0182dd",
              "IPY_MODEL_a4f32b0e90db46e889a6b33f9cac55e9"
            ]
          }
        },
        "8e23b2910d51458c9d4fa13456174cd8": {
          "model_module": "@jupyter-widgets/base",
          "model_name": "LayoutModel",
          "state": {
            "_view_name": "LayoutView",
            "grid_template_rows": null,
            "right": null,
            "justify_content": null,
            "_view_module": "@jupyter-widgets/base",
            "overflow": null,
            "_model_module_version": "1.2.0",
            "_view_count": null,
            "flex_flow": null,
            "width": null,
            "min_width": null,
            "border": null,
            "align_items": null,
            "bottom": null,
            "_model_module": "@jupyter-widgets/base",
            "top": null,
            "grid_column": null,
            "overflow_y": null,
            "overflow_x": null,
            "grid_auto_flow": null,
            "grid_area": null,
            "grid_template_columns": null,
            "flex": null,
            "_model_name": "LayoutModel",
            "justify_items": null,
            "grid_row": null,
            "max_height": null,
            "align_content": null,
            "visibility": null,
            "align_self": null,
            "height": null,
            "min_height": null,
            "padding": null,
            "grid_auto_rows": null,
            "grid_gap": null,
            "max_width": null,
            "order": null,
            "_view_module_version": "1.2.0",
            "grid_template_areas": null,
            "object_position": null,
            "object_fit": null,
            "grid_auto_columns": null,
            "margin": null,
            "display": null,
            "left": null
          }
        },
        "0b5f080a6b2c475f824819d82c0182dd": {
          "model_module": "@jupyter-widgets/controls",
          "model_name": "FloatProgressModel",
          "state": {
            "_view_name": "ProgressView",
            "style": "IPY_MODEL_ee4dae6d54314da9961d031387982c3c",
            "_dom_classes": [],
            "description": "Downloading: 100%",
            "_model_name": "FloatProgressModel",
            "bar_style": "success",
            "max": 760,
            "_view_module": "@jupyter-widgets/controls",
            "_model_module_version": "1.5.0",
            "value": 760,
            "_view_count": null,
            "_view_module_version": "1.5.0",
            "orientation": "horizontal",
            "min": 0,
            "description_tooltip": null,
            "_model_module": "@jupyter-widgets/controls",
            "layout": "IPY_MODEL_7d3229ed495d4b49a7e1ca3c5efa78e7"
          }
        },
        "a4f32b0e90db46e889a6b33f9cac55e9": {
          "model_module": "@jupyter-widgets/controls",
          "model_name": "HTMLModel",
          "state": {
            "_view_name": "HTMLView",
            "style": "IPY_MODEL_79156aa2641b41f3900d442250118202",
            "_dom_classes": [],
            "description": "",
            "_model_name": "HTMLModel",
            "placeholder": "​",
            "_view_module": "@jupyter-widgets/controls",
            "_model_module_version": "1.5.0",
            "value": " 760/760 [00:00&lt;00:00, 10.9kB/s]",
            "_view_count": null,
            "_view_module_version": "1.5.0",
            "description_tooltip": null,
            "_model_module": "@jupyter-widgets/controls",
            "layout": "IPY_MODEL_09f257e9f2de4a8b8ce5326787b47201"
          }
        },
        "ee4dae6d54314da9961d031387982c3c": {
          "model_module": "@jupyter-widgets/controls",
          "model_name": "ProgressStyleModel",
          "state": {
            "_view_name": "StyleView",
            "_model_name": "ProgressStyleModel",
            "description_width": "initial",
            "_view_module": "@jupyter-widgets/base",
            "_model_module_version": "1.5.0",
            "_view_count": null,
            "_view_module_version": "1.2.0",
            "bar_color": null,
            "_model_module": "@jupyter-widgets/controls"
          }
        },
        "7d3229ed495d4b49a7e1ca3c5efa78e7": {
          "model_module": "@jupyter-widgets/base",
          "model_name": "LayoutModel",
          "state": {
            "_view_name": "LayoutView",
            "grid_template_rows": null,
            "right": null,
            "justify_content": null,
            "_view_module": "@jupyter-widgets/base",
            "overflow": null,
            "_model_module_version": "1.2.0",
            "_view_count": null,
            "flex_flow": null,
            "width": null,
            "min_width": null,
            "border": null,
            "align_items": null,
            "bottom": null,
            "_model_module": "@jupyter-widgets/base",
            "top": null,
            "grid_column": null,
            "overflow_y": null,
            "overflow_x": null,
            "grid_auto_flow": null,
            "grid_area": null,
            "grid_template_columns": null,
            "flex": null,
            "_model_name": "LayoutModel",
            "justify_items": null,
            "grid_row": null,
            "max_height": null,
            "align_content": null,
            "visibility": null,
            "align_self": null,
            "height": null,
            "min_height": null,
            "padding": null,
            "grid_auto_rows": null,
            "grid_gap": null,
            "max_width": null,
            "order": null,
            "_view_module_version": "1.2.0",
            "grid_template_areas": null,
            "object_position": null,
            "object_fit": null,
            "grid_auto_columns": null,
            "margin": null,
            "display": null,
            "left": null
          }
        },
        "79156aa2641b41f3900d442250118202": {
          "model_module": "@jupyter-widgets/controls",
          "model_name": "DescriptionStyleModel",
          "state": {
            "_view_name": "StyleView",
            "_model_name": "DescriptionStyleModel",
            "description_width": "",
            "_view_module": "@jupyter-widgets/base",
            "_model_module_version": "1.5.0",
            "_view_count": null,
            "_view_module_version": "1.2.0",
            "_model_module": "@jupyter-widgets/controls"
          }
        },
        "09f257e9f2de4a8b8ce5326787b47201": {
          "model_module": "@jupyter-widgets/base",
          "model_name": "LayoutModel",
          "state": {
            "_view_name": "LayoutView",
            "grid_template_rows": null,
            "right": null,
            "justify_content": null,
            "_view_module": "@jupyter-widgets/base",
            "overflow": null,
            "_model_module_version": "1.2.0",
            "_view_count": null,
            "flex_flow": null,
            "width": null,
            "min_width": null,
            "border": null,
            "align_items": null,
            "bottom": null,
            "_model_module": "@jupyter-widgets/base",
            "top": null,
            "grid_column": null,
            "overflow_y": null,
            "overflow_x": null,
            "grid_auto_flow": null,
            "grid_area": null,
            "grid_template_columns": null,
            "flex": null,
            "_model_name": "LayoutModel",
            "justify_items": null,
            "grid_row": null,
            "max_height": null,
            "align_content": null,
            "visibility": null,
            "align_self": null,
            "height": null,
            "min_height": null,
            "padding": null,
            "grid_auto_rows": null,
            "grid_gap": null,
            "max_width": null,
            "order": null,
            "_view_module_version": "1.2.0",
            "grid_template_areas": null,
            "object_position": null,
            "object_fit": null,
            "grid_auto_columns": null,
            "margin": null,
            "display": null,
            "left": null
          }
        },
        "123e3ee6a5064452a02ff9895b0191b5": {
          "model_module": "@jupyter-widgets/controls",
          "model_name": "HBoxModel",
          "state": {
            "_view_name": "HBoxView",
            "_dom_classes": [],
            "_model_name": "HBoxModel",
            "_view_module": "@jupyter-widgets/controls",
            "_model_module_version": "1.5.0",
            "_view_count": null,
            "_view_module_version": "1.5.0",
            "box_style": "",
            "layout": "IPY_MODEL_72d8d1861710436b8a5abd7da687e245",
            "_model_module": "@jupyter-widgets/controls",
            "children": [
              "IPY_MODEL_2ab64705ed88451c8b7786afb1c09d2f",
              "IPY_MODEL_825518b5a60c4ab38b9b2074d1f70112"
            ]
          }
        },
        "72d8d1861710436b8a5abd7da687e245": {
          "model_module": "@jupyter-widgets/base",
          "model_name": "LayoutModel",
          "state": {
            "_view_name": "LayoutView",
            "grid_template_rows": null,
            "right": null,
            "justify_content": null,
            "_view_module": "@jupyter-widgets/base",
            "overflow": null,
            "_model_module_version": "1.2.0",
            "_view_count": null,
            "flex_flow": null,
            "width": null,
            "min_width": null,
            "border": null,
            "align_items": null,
            "bottom": null,
            "_model_module": "@jupyter-widgets/base",
            "top": null,
            "grid_column": null,
            "overflow_y": null,
            "overflow_x": null,
            "grid_auto_flow": null,
            "grid_area": null,
            "grid_template_columns": null,
            "flex": null,
            "_model_name": "LayoutModel",
            "justify_items": null,
            "grid_row": null,
            "max_height": null,
            "align_content": null,
            "visibility": null,
            "align_self": null,
            "height": null,
            "min_height": null,
            "padding": null,
            "grid_auto_rows": null,
            "grid_gap": null,
            "max_width": null,
            "order": null,
            "_view_module_version": "1.2.0",
            "grid_template_areas": null,
            "object_position": null,
            "object_fit": null,
            "grid_auto_columns": null,
            "margin": null,
            "display": null,
            "left": null
          }
        },
        "2ab64705ed88451c8b7786afb1c09d2f": {
          "model_module": "@jupyter-widgets/controls",
          "model_name": "FloatProgressModel",
          "state": {
            "_view_name": "ProgressView",
            "style": "IPY_MODEL_14ba811aacba411ea4f52f0b4571c988",
            "_dom_classes": [],
            "description": "Downloading: 100%",
            "_model_name": "FloatProgressModel",
            "bar_style": "success",
            "max": 467042463,
            "_view_module": "@jupyter-widgets/controls",
            "_model_module_version": "1.5.0",
            "value": 467042463,
            "_view_count": null,
            "_view_module_version": "1.5.0",
            "orientation": "horizontal",
            "min": 0,
            "description_tooltip": null,
            "_model_module": "@jupyter-widgets/controls",
            "layout": "IPY_MODEL_f957199b271248f9baf686011d1c981a"
          }
        },
        "825518b5a60c4ab38b9b2074d1f70112": {
          "model_module": "@jupyter-widgets/controls",
          "model_name": "HTMLModel",
          "state": {
            "_view_name": "HTMLView",
            "style": "IPY_MODEL_871b9cbba91140f4a0b3f14298086e86",
            "_dom_classes": [],
            "description": "",
            "_model_name": "HTMLModel",
            "placeholder": "​",
            "_view_module": "@jupyter-widgets/controls",
            "_model_module_version": "1.5.0",
            "value": " 467M/467M [00:09&lt;00:00, 48.1MB/s]",
            "_view_count": null,
            "_view_module_version": "1.5.0",
            "description_tooltip": null,
            "_model_module": "@jupyter-widgets/controls",
            "layout": "IPY_MODEL_c7b0c8bc91cc473b89b7b052a26ddcb3"
          }
        },
        "14ba811aacba411ea4f52f0b4571c988": {
          "model_module": "@jupyter-widgets/controls",
          "model_name": "ProgressStyleModel",
          "state": {
            "_view_name": "StyleView",
            "_model_name": "ProgressStyleModel",
            "description_width": "initial",
            "_view_module": "@jupyter-widgets/base",
            "_model_module_version": "1.5.0",
            "_view_count": null,
            "_view_module_version": "1.2.0",
            "bar_color": null,
            "_model_module": "@jupyter-widgets/controls"
          }
        },
        "f957199b271248f9baf686011d1c981a": {
          "model_module": "@jupyter-widgets/base",
          "model_name": "LayoutModel",
          "state": {
            "_view_name": "LayoutView",
            "grid_template_rows": null,
            "right": null,
            "justify_content": null,
            "_view_module": "@jupyter-widgets/base",
            "overflow": null,
            "_model_module_version": "1.2.0",
            "_view_count": null,
            "flex_flow": null,
            "width": null,
            "min_width": null,
            "border": null,
            "align_items": null,
            "bottom": null,
            "_model_module": "@jupyter-widgets/base",
            "top": null,
            "grid_column": null,
            "overflow_y": null,
            "overflow_x": null,
            "grid_auto_flow": null,
            "grid_area": null,
            "grid_template_columns": null,
            "flex": null,
            "_model_name": "LayoutModel",
            "justify_items": null,
            "grid_row": null,
            "max_height": null,
            "align_content": null,
            "visibility": null,
            "align_self": null,
            "height": null,
            "min_height": null,
            "padding": null,
            "grid_auto_rows": null,
            "grid_gap": null,
            "max_width": null,
            "order": null,
            "_view_module_version": "1.2.0",
            "grid_template_areas": null,
            "object_position": null,
            "object_fit": null,
            "grid_auto_columns": null,
            "margin": null,
            "display": null,
            "left": null
          }
        },
        "871b9cbba91140f4a0b3f14298086e86": {
          "model_module": "@jupyter-widgets/controls",
          "model_name": "DescriptionStyleModel",
          "state": {
            "_view_name": "StyleView",
            "_model_name": "DescriptionStyleModel",
            "description_width": "",
            "_view_module": "@jupyter-widgets/base",
            "_model_module_version": "1.5.0",
            "_view_count": null,
            "_view_module_version": "1.2.0",
            "_model_module": "@jupyter-widgets/controls"
          }
        },
        "c7b0c8bc91cc473b89b7b052a26ddcb3": {
          "model_module": "@jupyter-widgets/base",
          "model_name": "LayoutModel",
          "state": {
            "_view_name": "LayoutView",
            "grid_template_rows": null,
            "right": null,
            "justify_content": null,
            "_view_module": "@jupyter-widgets/base",
            "overflow": null,
            "_model_module_version": "1.2.0",
            "_view_count": null,
            "flex_flow": null,
            "width": null,
            "min_width": null,
            "border": null,
            "align_items": null,
            "bottom": null,
            "_model_module": "@jupyter-widgets/base",
            "top": null,
            "grid_column": null,
            "overflow_y": null,
            "overflow_x": null,
            "grid_auto_flow": null,
            "grid_area": null,
            "grid_template_columns": null,
            "flex": null,
            "_model_name": "LayoutModel",
            "justify_items": null,
            "grid_row": null,
            "max_height": null,
            "align_content": null,
            "visibility": null,
            "align_self": null,
            "height": null,
            "min_height": null,
            "padding": null,
            "grid_auto_rows": null,
            "grid_gap": null,
            "max_width": null,
            "order": null,
            "_view_module_version": "1.2.0",
            "grid_template_areas": null,
            "object_position": null,
            "object_fit": null,
            "grid_auto_columns": null,
            "margin": null,
            "display": null,
            "left": null
          }
        }
      }
    }
  },
  "cells": [
    {
      "cell_type": "markdown",
      "metadata": {
        "id": "view-in-github",
        "colab_type": "text"
      },
      "source": [
        "<a href=\"https://colab.research.google.com/github/anushpittu/Naturallanguageprocessing/blob/main/XLNet_on_20_Newsgroups_and_contextual_augmentation.ipynb\" target=\"_parent\"><img src=\"https://colab.research.google.com/assets/colab-badge.svg\" alt=\"Open In Colab\"/></a>"
      ]
    },
    {
      "cell_type": "markdown",
      "metadata": {
        "id": "kHVSyAr8J0G_"
      },
      "source": [
        " # **Challenge:**\n",
        "\n",
        "Perform Text classification using XLNet on 20 Newsgroups and apply the Contextual augmentation. Report the performance metrics for before and after augmentation? show examples of data augmentaion?"
      ]
    },
    {
      "cell_type": "markdown",
      "metadata": {
        "id": "Q-ejUE1GZpOp"
      },
      "source": [
        "# Text classification using XLnet"
      ]
    },
    {
      "cell_type": "code",
      "metadata": {
        "id": "obRHmajsLctz"
      },
      "source": [
        "#Let's start by importing some libraries"
      ],
      "execution_count": 1,
      "outputs": []
    },
    {
      "cell_type": "code",
      "metadata": {
        "colab": {
          "base_uri": "https://localhost:8080/"
        },
        "collapsed": true,
        "id": "Dhjz3jjRL4RF",
        "outputId": "65754fb9-98e9-45a0-bbd4-e0f4eaa51fce"
      },
      "source": [
        "!pip install transformers"
      ],
      "execution_count": 2,
      "outputs": [
        {
          "output_type": "stream",
          "text": [
            "Collecting transformers\n",
            "\u001b[?25l  Downloading https://files.pythonhosted.org/packages/d8/b2/57495b5309f09fa501866e225c84532d1fd89536ea62406b2181933fb418/transformers-4.5.1-py3-none-any.whl (2.1MB)\n",
            "\r\u001b[K     |▏                               | 10kB 21.1MB/s eta 0:00:01\r\u001b[K     |▎                               | 20kB 28.3MB/s eta 0:00:01\r\u001b[K     |▌                               | 30kB 21.5MB/s eta 0:00:01\r\u001b[K     |▋                               | 40kB 24.7MB/s eta 0:00:01\r\u001b[K     |▉                               | 51kB 23.5MB/s eta 0:00:01\r\u001b[K     |█                               | 61kB 23.7MB/s eta 0:00:01\r\u001b[K     |█▏                              | 71kB 25.2MB/s eta 0:00:01\r\u001b[K     |█▎                              | 81kB 23.6MB/s eta 0:00:01\r\u001b[K     |█▍                              | 92kB 21.2MB/s eta 0:00:01\r\u001b[K     |█▋                              | 102kB 22.3MB/s eta 0:00:01\r\u001b[K     |█▊                              | 112kB 22.3MB/s eta 0:00:01\r\u001b[K     |██                              | 122kB 22.3MB/s eta 0:00:01\r\u001b[K     |██                              | 133kB 22.3MB/s eta 0:00:01\r\u001b[K     |██▎                             | 143kB 22.3MB/s eta 0:00:01\r\u001b[K     |██▍                             | 153kB 22.3MB/s eta 0:00:01\r\u001b[K     |██▌                             | 163kB 22.3MB/s eta 0:00:01\r\u001b[K     |██▊                             | 174kB 22.3MB/s eta 0:00:01\r\u001b[K     |██▉                             | 184kB 22.3MB/s eta 0:00:01\r\u001b[K     |███                             | 194kB 22.3MB/s eta 0:00:01\r\u001b[K     |███▏                            | 204kB 22.3MB/s eta 0:00:01\r\u001b[K     |███▍                            | 215kB 22.3MB/s eta 0:00:01\r\u001b[K     |███▌                            | 225kB 22.3MB/s eta 0:00:01\r\u001b[K     |███▋                            | 235kB 22.3MB/s eta 0:00:01\r\u001b[K     |███▉                            | 245kB 22.3MB/s eta 0:00:01\r\u001b[K     |████                            | 256kB 22.3MB/s eta 0:00:01\r\u001b[K     |████▏                           | 266kB 22.3MB/s eta 0:00:01\r\u001b[K     |████▎                           | 276kB 22.3MB/s eta 0:00:01\r\u001b[K     |████▌                           | 286kB 22.3MB/s eta 0:00:01\r\u001b[K     |████▋                           | 296kB 22.3MB/s eta 0:00:01\r\u001b[K     |████▊                           | 307kB 22.3MB/s eta 0:00:01\r\u001b[K     |█████                           | 317kB 22.3MB/s eta 0:00:01\r\u001b[K     |█████                           | 327kB 22.3MB/s eta 0:00:01\r\u001b[K     |█████▎                          | 337kB 22.3MB/s eta 0:00:01\r\u001b[K     |█████▍                          | 348kB 22.3MB/s eta 0:00:01\r\u001b[K     |█████▋                          | 358kB 22.3MB/s eta 0:00:01\r\u001b[K     |█████▊                          | 368kB 22.3MB/s eta 0:00:01\r\u001b[K     |█████▉                          | 378kB 22.3MB/s eta 0:00:01\r\u001b[K     |██████                          | 389kB 22.3MB/s eta 0:00:01\r\u001b[K     |██████▏                         | 399kB 22.3MB/s eta 0:00:01\r\u001b[K     |██████▍                         | 409kB 22.3MB/s eta 0:00:01\r\u001b[K     |██████▌                         | 419kB 22.3MB/s eta 0:00:01\r\u001b[K     |██████▊                         | 430kB 22.3MB/s eta 0:00:01\r\u001b[K     |██████▉                         | 440kB 22.3MB/s eta 0:00:01\r\u001b[K     |███████                         | 450kB 22.3MB/s eta 0:00:01\r\u001b[K     |███████▏                        | 460kB 22.3MB/s eta 0:00:01\r\u001b[K     |███████▎                        | 471kB 22.3MB/s eta 0:00:01\r\u001b[K     |███████▌                        | 481kB 22.3MB/s eta 0:00:01\r\u001b[K     |███████▋                        | 491kB 22.3MB/s eta 0:00:01\r\u001b[K     |███████▉                        | 501kB 22.3MB/s eta 0:00:01\r\u001b[K     |████████                        | 512kB 22.3MB/s eta 0:00:01\r\u001b[K     |████████                        | 522kB 22.3MB/s eta 0:00:01\r\u001b[K     |████████▎                       | 532kB 22.3MB/s eta 0:00:01\r\u001b[K     |████████▍                       | 542kB 22.3MB/s eta 0:00:01\r\u001b[K     |████████▋                       | 552kB 22.3MB/s eta 0:00:01\r\u001b[K     |████████▊                       | 563kB 22.3MB/s eta 0:00:01\r\u001b[K     |█████████                       | 573kB 22.3MB/s eta 0:00:01\r\u001b[K     |█████████                       | 583kB 22.3MB/s eta 0:00:01\r\u001b[K     |█████████▎                      | 593kB 22.3MB/s eta 0:00:01\r\u001b[K     |█████████▍                      | 604kB 22.3MB/s eta 0:00:01\r\u001b[K     |█████████▌                      | 614kB 22.3MB/s eta 0:00:01\r\u001b[K     |█████████▊                      | 624kB 22.3MB/s eta 0:00:01\r\u001b[K     |█████████▉                      | 634kB 22.3MB/s eta 0:00:01\r\u001b[K     |██████████                      | 645kB 22.3MB/s eta 0:00:01\r\u001b[K     |██████████▏                     | 655kB 22.3MB/s eta 0:00:01\r\u001b[K     |██████████▍                     | 665kB 22.3MB/s eta 0:00:01\r\u001b[K     |██████████▌                     | 675kB 22.3MB/s eta 0:00:01\r\u001b[K     |██████████▋                     | 686kB 22.3MB/s eta 0:00:01\r\u001b[K     |██████████▉                     | 696kB 22.3MB/s eta 0:00:01\r\u001b[K     |███████████                     | 706kB 22.3MB/s eta 0:00:01\r\u001b[K     |███████████▏                    | 716kB 22.3MB/s eta 0:00:01\r\u001b[K     |███████████▎                    | 727kB 22.3MB/s eta 0:00:01\r\u001b[K     |███████████▌                    | 737kB 22.3MB/s eta 0:00:01\r\u001b[K     |███████████▋                    | 747kB 22.3MB/s eta 0:00:01\r\u001b[K     |███████████▊                    | 757kB 22.3MB/s eta 0:00:01\r\u001b[K     |████████████                    | 768kB 22.3MB/s eta 0:00:01\r\u001b[K     |████████████                    | 778kB 22.3MB/s eta 0:00:01\r\u001b[K     |████████████▎                   | 788kB 22.3MB/s eta 0:00:01\r\u001b[K     |████████████▍                   | 798kB 22.3MB/s eta 0:00:01\r\u001b[K     |████████████▋                   | 808kB 22.3MB/s eta 0:00:01\r\u001b[K     |████████████▊                   | 819kB 22.3MB/s eta 0:00:01\r\u001b[K     |████████████▉                   | 829kB 22.3MB/s eta 0:00:01\r\u001b[K     |█████████████                   | 839kB 22.3MB/s eta 0:00:01\r\u001b[K     |█████████████▏                  | 849kB 22.3MB/s eta 0:00:01\r\u001b[K     |█████████████▍                  | 860kB 22.3MB/s eta 0:00:01\r\u001b[K     |█████████████▌                  | 870kB 22.3MB/s eta 0:00:01\r\u001b[K     |█████████████▊                  | 880kB 22.3MB/s eta 0:00:01\r\u001b[K     |█████████████▉                  | 890kB 22.3MB/s eta 0:00:01\r\u001b[K     |██████████████                  | 901kB 22.3MB/s eta 0:00:01\r\u001b[K     |██████████████▏                 | 911kB 22.3MB/s eta 0:00:01\r\u001b[K     |██████████████▎                 | 921kB 22.3MB/s eta 0:00:01\r\u001b[K     |██████████████▌                 | 931kB 22.3MB/s eta 0:00:01\r\u001b[K     |██████████████▋                 | 942kB 22.3MB/s eta 0:00:01\r\u001b[K     |██████████████▉                 | 952kB 22.3MB/s eta 0:00:01\r\u001b[K     |███████████████                 | 962kB 22.3MB/s eta 0:00:01\r\u001b[K     |███████████████                 | 972kB 22.3MB/s eta 0:00:01\r\u001b[K     |███████████████▎                | 983kB 22.3MB/s eta 0:00:01\r\u001b[K     |███████████████▍                | 993kB 22.3MB/s eta 0:00:01\r\u001b[K     |███████████████▋                | 1.0MB 22.3MB/s eta 0:00:01\r\u001b[K     |███████████████▊                | 1.0MB 22.3MB/s eta 0:00:01\r\u001b[K     |████████████████                | 1.0MB 22.3MB/s eta 0:00:01\r\u001b[K     |████████████████                | 1.0MB 22.3MB/s eta 0:00:01\r\u001b[K     |████████████████▏               | 1.0MB 22.3MB/s eta 0:00:01\r\u001b[K     |████████████████▍               | 1.1MB 22.3MB/s eta 0:00:01\r\u001b[K     |████████████████▌               | 1.1MB 22.3MB/s eta 0:00:01\r\u001b[K     |████████████████▊               | 1.1MB 22.3MB/s eta 0:00:01\r\u001b[K     |████████████████▉               | 1.1MB 22.3MB/s eta 0:00:01\r\u001b[K     |█████████████████               | 1.1MB 22.3MB/s eta 0:00:01\r\u001b[K     |█████████████████▏              | 1.1MB 22.3MB/s eta 0:00:01\r\u001b[K     |█████████████████▍              | 1.1MB 22.3MB/s eta 0:00:01\r\u001b[K     |█████████████████▌              | 1.1MB 22.3MB/s eta 0:00:01\r\u001b[K     |█████████████████▋              | 1.1MB 22.3MB/s eta 0:00:01\r\u001b[K     |█████████████████▉              | 1.1MB 22.3MB/s eta 0:00:01\r\u001b[K     |██████████████████              | 1.2MB 22.3MB/s eta 0:00:01\r\u001b[K     |██████████████████▏             | 1.2MB 22.3MB/s eta 0:00:01\r\u001b[K     |██████████████████▎             | 1.2MB 22.3MB/s eta 0:00:01\r\u001b[K     |██████████████████▌             | 1.2MB 22.3MB/s eta 0:00:01\r\u001b[K     |██████████████████▋             | 1.2MB 22.3MB/s eta 0:00:01\r\u001b[K     |██████████████████▊             | 1.2MB 22.3MB/s eta 0:00:01\r\u001b[K     |███████████████████             | 1.2MB 22.3MB/s eta 0:00:01\r\u001b[K     |███████████████████             | 1.2MB 22.3MB/s eta 0:00:01\r\u001b[K     |███████████████████▎            | 1.2MB 22.3MB/s eta 0:00:01\r\u001b[K     |███████████████████▍            | 1.2MB 22.3MB/s eta 0:00:01\r\u001b[K     |███████████████████▋            | 1.3MB 22.3MB/s eta 0:00:01\r\u001b[K     |███████████████████▊            | 1.3MB 22.3MB/s eta 0:00:01\r\u001b[K     |███████████████████▉            | 1.3MB 22.3MB/s eta 0:00:01\r\u001b[K     |████████████████████            | 1.3MB 22.3MB/s eta 0:00:01\r\u001b[K     |████████████████████▏           | 1.3MB 22.3MB/s eta 0:00:01\r\u001b[K     |████████████████████▍           | 1.3MB 22.3MB/s eta 0:00:01\r\u001b[K     |████████████████████▌           | 1.3MB 22.3MB/s eta 0:00:01\r\u001b[K     |████████████████████▊           | 1.3MB 22.3MB/s eta 0:00:01\r\u001b[K     |████████████████████▉           | 1.3MB 22.3MB/s eta 0:00:01\r\u001b[K     |█████████████████████           | 1.4MB 22.3MB/s eta 0:00:01\r\u001b[K     |█████████████████████▏          | 1.4MB 22.3MB/s eta 0:00:01\r\u001b[K     |█████████████████████▎          | 1.4MB 22.3MB/s eta 0:00:01\r\u001b[K     |█████████████████████▌          | 1.4MB 22.3MB/s eta 0:00:01\r\u001b[K     |█████████████████████▋          | 1.4MB 22.3MB/s eta 0:00:01\r\u001b[K     |█████████████████████▉          | 1.4MB 22.3MB/s eta 0:00:01\r\u001b[K     |██████████████████████          | 1.4MB 22.3MB/s eta 0:00:01\r\u001b[K     |██████████████████████          | 1.4MB 22.3MB/s eta 0:00:01\r\u001b[K     |██████████████████████▎         | 1.4MB 22.3MB/s eta 0:00:01\r\u001b[K     |██████████████████████▍         | 1.4MB 22.3MB/s eta 0:00:01\r\u001b[K     |██████████████████████▋         | 1.5MB 22.3MB/s eta 0:00:01\r\u001b[K     |██████████████████████▊         | 1.5MB 22.3MB/s eta 0:00:01\r\u001b[K     |███████████████████████         | 1.5MB 22.3MB/s eta 0:00:01\r\u001b[K     |███████████████████████         | 1.5MB 22.3MB/s eta 0:00:01\r\u001b[K     |███████████████████████▏        | 1.5MB 22.3MB/s eta 0:00:01\r\u001b[K     |███████████████████████▍        | 1.5MB 22.3MB/s eta 0:00:01\r\u001b[K     |███████████████████████▌        | 1.5MB 22.3MB/s eta 0:00:01\r\u001b[K     |███████████████████████▊        | 1.5MB 22.3MB/s eta 0:00:01\r\u001b[K     |███████████████████████▉        | 1.5MB 22.3MB/s eta 0:00:01\r\u001b[K     |████████████████████████        | 1.5MB 22.3MB/s eta 0:00:01\r\u001b[K     |████████████████████████▏       | 1.6MB 22.3MB/s eta 0:00:01\r\u001b[K     |████████████████████████▎       | 1.6MB 22.3MB/s eta 0:00:01\r\u001b[K     |████████████████████████▌       | 1.6MB 22.3MB/s eta 0:00:01\r\u001b[K     |████████████████████████▋       | 1.6MB 22.3MB/s eta 0:00:01\r\u001b[K     |████████████████████████▉       | 1.6MB 22.3MB/s eta 0:00:01\r\u001b[K     |█████████████████████████       | 1.6MB 22.3MB/s eta 0:00:01\r\u001b[K     |█████████████████████████▏      | 1.6MB 22.3MB/s eta 0:00:01\r\u001b[K     |█████████████████████████▎      | 1.6MB 22.3MB/s eta 0:00:01\r\u001b[K     |█████████████████████████▍      | 1.6MB 22.3MB/s eta 0:00:01\r\u001b[K     |█████████████████████████▋      | 1.6MB 22.3MB/s eta 0:00:01\r\u001b[K     |█████████████████████████▊      | 1.7MB 22.3MB/s eta 0:00:01\r\u001b[K     |██████████████████████████      | 1.7MB 22.3MB/s eta 0:00:01\r\u001b[K     |██████████████████████████      | 1.7MB 22.3MB/s eta 0:00:01\r\u001b[K     |██████████████████████████▎     | 1.7MB 22.3MB/s eta 0:00:01\r\u001b[K     |██████████████████████████▍     | 1.7MB 22.3MB/s eta 0:00:01\r\u001b[K     |██████████████████████████▋     | 1.7MB 22.3MB/s eta 0:00:01\r\u001b[K     |██████████████████████████▊     | 1.7MB 22.3MB/s eta 0:00:01\r\u001b[K     |██████████████████████████▉     | 1.7MB 22.3MB/s eta 0:00:01\r\u001b[K     |███████████████████████████     | 1.7MB 22.3MB/s eta 0:00:01\r\u001b[K     |███████████████████████████▏    | 1.8MB 22.3MB/s eta 0:00:01\r\u001b[K     |███████████████████████████▍    | 1.8MB 22.3MB/s eta 0:00:01\r\u001b[K     |███████████████████████████▌    | 1.8MB 22.3MB/s eta 0:00:01\r\u001b[K     |███████████████████████████▊    | 1.8MB 22.3MB/s eta 0:00:01\r\u001b[K     |███████████████████████████▉    | 1.8MB 22.3MB/s eta 0:00:01\r\u001b[K     |████████████████████████████    | 1.8MB 22.3MB/s eta 0:00:01\r\u001b[K     |████████████████████████████▏   | 1.8MB 22.3MB/s eta 0:00:01\r\u001b[K     |████████████████████████████▎   | 1.8MB 22.3MB/s eta 0:00:01\r\u001b[K     |████████████████████████████▌   | 1.8MB 22.3MB/s eta 0:00:01\r\u001b[K     |████████████████████████████▋   | 1.8MB 22.3MB/s eta 0:00:01\r\u001b[K     |████████████████████████████▉   | 1.9MB 22.3MB/s eta 0:00:01\r\u001b[K     |█████████████████████████████   | 1.9MB 22.3MB/s eta 0:00:01\r\u001b[K     |█████████████████████████████   | 1.9MB 22.3MB/s eta 0:00:01\r\u001b[K     |█████████████████████████████▎  | 1.9MB 22.3MB/s eta 0:00:01\r\u001b[K     |█████████████████████████████▍  | 1.9MB 22.3MB/s eta 0:00:01\r\u001b[K     |█████████████████████████████▋  | 1.9MB 22.3MB/s eta 0:00:01\r\u001b[K     |█████████████████████████████▊  | 1.9MB 22.3MB/s eta 0:00:01\r\u001b[K     |██████████████████████████████  | 1.9MB 22.3MB/s eta 0:00:01\r\u001b[K     |██████████████████████████████  | 1.9MB 22.3MB/s eta 0:00:01\r\u001b[K     |██████████████████████████████▏ | 1.9MB 22.3MB/s eta 0:00:01\r\u001b[K     |██████████████████████████████▍ | 2.0MB 22.3MB/s eta 0:00:01\r\u001b[K     |██████████████████████████████▌ | 2.0MB 22.3MB/s eta 0:00:01\r\u001b[K     |██████████████████████████████▊ | 2.0MB 22.3MB/s eta 0:00:01\r\u001b[K     |██████████████████████████████▉ | 2.0MB 22.3MB/s eta 0:00:01\r\u001b[K     |███████████████████████████████ | 2.0MB 22.3MB/s eta 0:00:01\r\u001b[K     |███████████████████████████████▏| 2.0MB 22.3MB/s eta 0:00:01\r\u001b[K     |███████████████████████████████▎| 2.0MB 22.3MB/s eta 0:00:01\r\u001b[K     |███████████████████████████████▌| 2.0MB 22.3MB/s eta 0:00:01\r\u001b[K     |███████████████████████████████▋| 2.0MB 22.3MB/s eta 0:00:01\r\u001b[K     |███████████████████████████████▉| 2.0MB 22.3MB/s eta 0:00:01\r\u001b[K     |████████████████████████████████| 2.1MB 22.3MB/s eta 0:00:01\r\u001b[K     |████████████████████████████████| 2.1MB 22.3MB/s \n",
            "\u001b[?25hRequirement already satisfied: regex!=2019.12.17 in /usr/local/lib/python3.7/dist-packages (from transformers) (2019.12.20)\n",
            "Collecting tokenizers<0.11,>=0.10.1\n",
            "\u001b[?25l  Downloading https://files.pythonhosted.org/packages/ae/04/5b870f26a858552025a62f1649c20d29d2672c02ff3c3fb4c688ca46467a/tokenizers-0.10.2-cp37-cp37m-manylinux2010_x86_64.whl (3.3MB)\n",
            "\u001b[K     |████████████████████████████████| 3.3MB 39.1MB/s \n",
            "\u001b[?25hRequirement already satisfied: packaging in /usr/local/lib/python3.7/dist-packages (from transformers) (20.9)\n",
            "Requirement already satisfied: filelock in /usr/local/lib/python3.7/dist-packages (from transformers) (3.0.12)\n",
            "Requirement already satisfied: requests in /usr/local/lib/python3.7/dist-packages (from transformers) (2.23.0)\n",
            "Requirement already satisfied: tqdm>=4.27 in /usr/local/lib/python3.7/dist-packages (from transformers) (4.41.1)\n",
            "Collecting sacremoses\n",
            "\u001b[?25l  Downloading https://files.pythonhosted.org/packages/08/cd/342e584ee544d044fb573ae697404ce22ede086c9e87ce5960772084cad0/sacremoses-0.0.44.tar.gz (862kB)\n",
            "\u001b[K     |████████████████████████████████| 870kB 52.0MB/s \n",
            "\u001b[?25hRequirement already satisfied: importlib-metadata; python_version < \"3.8\" in /usr/local/lib/python3.7/dist-packages (from transformers) (3.10.1)\n",
            "Requirement already satisfied: numpy>=1.17 in /usr/local/lib/python3.7/dist-packages (from transformers) (1.19.5)\n",
            "Requirement already satisfied: pyparsing>=2.0.2 in /usr/local/lib/python3.7/dist-packages (from packaging->transformers) (2.4.7)\n",
            "Requirement already satisfied: chardet<4,>=3.0.2 in /usr/local/lib/python3.7/dist-packages (from requests->transformers) (3.0.4)\n",
            "Requirement already satisfied: certifi>=2017.4.17 in /usr/local/lib/python3.7/dist-packages (from requests->transformers) (2020.12.5)\n",
            "Requirement already satisfied: idna<3,>=2.5 in /usr/local/lib/python3.7/dist-packages (from requests->transformers) (2.10)\n",
            "Requirement already satisfied: urllib3!=1.25.0,!=1.25.1,<1.26,>=1.21.1 in /usr/local/lib/python3.7/dist-packages (from requests->transformers) (1.24.3)\n",
            "Requirement already satisfied: six in /usr/local/lib/python3.7/dist-packages (from sacremoses->transformers) (1.15.0)\n",
            "Requirement already satisfied: click in /usr/local/lib/python3.7/dist-packages (from sacremoses->transformers) (7.1.2)\n",
            "Requirement already satisfied: joblib in /usr/local/lib/python3.7/dist-packages (from sacremoses->transformers) (1.0.1)\n",
            "Requirement already satisfied: typing-extensions>=3.6.4; python_version < \"3.8\" in /usr/local/lib/python3.7/dist-packages (from importlib-metadata; python_version < \"3.8\"->transformers) (3.7.4.3)\n",
            "Requirement already satisfied: zipp>=0.5 in /usr/local/lib/python3.7/dist-packages (from importlib-metadata; python_version < \"3.8\"->transformers) (3.4.1)\n",
            "Building wheels for collected packages: sacremoses\n",
            "  Building wheel for sacremoses (setup.py) ... \u001b[?25l\u001b[?25hdone\n",
            "  Created wheel for sacremoses: filename=sacremoses-0.0.44-cp37-none-any.whl size=886084 sha256=e663f34fbff4898c57282c61a529f312693573f5cdd237f93318325031cff6c3\n",
            "  Stored in directory: /root/.cache/pip/wheels/3e/fb/c0/13ab4d63d537658f448366744654323077c4d90069b6512f3c\n",
            "Successfully built sacremoses\n",
            "Installing collected packages: tokenizers, sacremoses, transformers\n",
            "Successfully installed sacremoses-0.0.44 tokenizers-0.10.2 transformers-4.5.1\n"
          ],
          "name": "stdout"
        }
      ]
    },
    {
      "cell_type": "code",
      "metadata": {
        "id": "GsZ_MjnFMBta"
      },
      "source": [
        "import torch\n",
        "from transformers import XLNetTokenizerFast, XLNetForSequenceClassification\n",
        "from transformers.models.xlnet.modeling_xlnet import XLNetForSequenceClassificationOutput\n",
        "from transformers import Trainer, TrainingArguments\n",
        "import numpy as np\n",
        "import seaborn as sns\n",
        "import random\n",
        "import matplotlib.pyplot as plt\n",
        "from sklearn.datasets import fetch_20newsgroups\n",
        "from pprint import pprint\n",
        "from sklearn import metrics"
      ],
      "execution_count": 3,
      "outputs": []
    },
    {
      "cell_type": "code",
      "metadata": {
        "id": "NGtzmHIDMTqO"
      },
      "source": [
        "# set seed for reproducability\n",
        "torch.manual_seed(1)\n",
        "torch.cuda.manual_seed_all(1)"
      ],
      "execution_count": 4,
      "outputs": []
    },
    {
      "cell_type": "code",
      "metadata": {
        "colab": {
          "base_uri": "https://localhost:8080/",
          "height": 115,
          "referenced_widgets": [
            "0c569f263d5b4e1cb6a4e4ed6b1cc1ec",
            "e515dda79731404fb62eacf140575851",
            "5a391e939abc4d74954d1777b4e9219e",
            "9c86770bbd4e4647ab56aec49f8c69c3",
            "c13d7f81b2f74dfa9b2620fcef24c023",
            "bb42f3b2d3f44935bbe70dfa3b276b74",
            "0708f235dd18441784477f1cbd1b7ab3",
            "675a9060b35f43549b3e8120f0fe138d",
            "6b3aed3923424e21b128f1b24077321b",
            "4ac69f6f00ee4fd299886494660ae112",
            "71bd533bac444affb695ff48e07dde29",
            "cc2ec6c7ce1a498085803b088efdc819",
            "fb95cba1842d4e2c973a622eea45f549",
            "c0ced896b44b4f57a4c20648d7016540",
            "595f889d05f044f18f4180edf986b1e1",
            "04bc2d0a30be41d39ded84b260cf205c"
          ]
        },
        "id": "j2fnNkL5Ml56",
        "outputId": "697862ef-a101-4b52-98cc-9826c3917248"
      },
      "source": [
        "model_name = \"xlnet-base-cased\"\n",
        "tokenizer = XLNetTokenizerFast.from_pretrained(model_name, do_lower_case=True)"
      ],
      "execution_count": 5,
      "outputs": [
        {
          "output_type": "display_data",
          "data": {
            "application/vnd.jupyter.widget-view+json": {
              "model_id": "0c569f263d5b4e1cb6a4e4ed6b1cc1ec",
              "version_minor": 0,
              "version_major": 2
            },
            "text/plain": [
              "HBox(children=(FloatProgress(value=0.0, description='Downloading', max=798011.0, style=ProgressStyle(descripti…"
            ]
          },
          "metadata": {
            "tags": []
          }
        },
        {
          "output_type": "stream",
          "text": [
            "\n"
          ],
          "name": "stdout"
        },
        {
          "output_type": "display_data",
          "data": {
            "application/vnd.jupyter.widget-view+json": {
              "model_id": "6b3aed3923424e21b128f1b24077321b",
              "version_minor": 0,
              "version_major": 2
            },
            "text/plain": [
              "HBox(children=(FloatProgress(value=0.0, description='Downloading', max=1382015.0, style=ProgressStyle(descript…"
            ]
          },
          "metadata": {
            "tags": []
          }
        },
        {
          "output_type": "stream",
          "text": [
            "\n"
          ],
          "name": "stdout"
        }
      ]
    },
    {
      "cell_type": "code",
      "metadata": {
        "id": "m1qDuXlCMr1s"
      },
      "source": [
        "#Since there are limited resources we cannot use all the categories considering the size of the file so using only part of it for both training and augmentation\n",
        "cats = ['alt.atheism', 'sci.space', 'soc.religion.christian', 'talk.politics.misc']"
      ],
      "execution_count": 6,
      "outputs": []
    },
    {
      "cell_type": "code",
      "metadata": {
        "colab": {
          "base_uri": "https://localhost:8080/"
        },
        "id": "erRx5UWLNGJV",
        "outputId": "a0b8c036-f50a-4f04-dccc-c97c12b3d6c4"
      },
      "source": [
        "#we can get the full data  set just by changing the categories = cats to 'None'\n",
        "newsgroups_train = fetch_20newsgroups(subset = 'train',shuffle = True,random_state = 0, categories = cats, remove=(\"headers\", \"footers\", \"quotes\"))\n",
        "newsgroups_test= fetch_20newsgroups(subset = 'test',shuffle = True,random_state = 0, categories = cats, remove=(\"headers\", \"footers\", \"quotes\"))"
      ],
      "execution_count": 7,
      "outputs": [
        {
          "output_type": "stream",
          "text": [
            "Downloading 20news dataset. This may take a few minutes.\n",
            "Downloading dataset from https://ndownloader.figshare.com/files/5975967 (14 MB)\n"
          ],
          "name": "stderr"
        }
      ]
    },
    {
      "cell_type": "code",
      "metadata": {
        "colab": {
          "base_uri": "https://localhost:8080/"
        },
        "id": "wKDHheIbNTI-",
        "outputId": "84839666-028f-453f-ee50-a40aded66405"
      },
      "source": [
        "#shape of the data\n",
        "newsgroups_train.filenames.shape"
      ],
      "execution_count": 8,
      "outputs": [
        {
          "output_type": "execute_result",
          "data": {
            "text/plain": [
              "(2137,)"
            ]
          },
          "metadata": {
            "tags": []
          },
          "execution_count": 8
        }
      ]
    },
    {
      "cell_type": "code",
      "metadata": {
        "colab": {
          "base_uri": "https://localhost:8080/"
        },
        "id": "xLOFy43yNfHJ",
        "outputId": "d166455b-3c74-4ee8-e983-b1bd27966cb2"
      },
      "source": [
        "#shape of the target data\n",
        "newsgroups_train.target.shape"
      ],
      "execution_count": 9,
      "outputs": [
        {
          "output_type": "execute_result",
          "data": {
            "text/plain": [
              "(2137,)"
            ]
          },
          "metadata": {
            "tags": []
          },
          "execution_count": 9
        }
      ]
    },
    {
      "cell_type": "code",
      "metadata": {
        "colab": {
          "base_uri": "https://localhost:8080/"
        },
        "id": "jCybACb0Niet",
        "outputId": "49e296c3-ee3d-4170-8ff0-2268db3d39d5"
      },
      "source": [
        "pprint(list(newsgroups_train.target_names))\n",
        "#print the final list of target names"
      ],
      "execution_count": 10,
      "outputs": [
        {
          "output_type": "stream",
          "text": [
            "['alt.atheism', 'sci.space', 'soc.religion.christian', 'talk.politics.misc']\n"
          ],
          "name": "stdout"
        }
      ]
    },
    {
      "cell_type": "code",
      "metadata": {
        "id": "1Ejr72v8Nnlh"
      },
      "source": [
        "#alloting the train data and its target to x and y\n",
        "X_train = newsgroups_train.data\n",
        "y_train = newsgroups_train.target"
      ],
      "execution_count": 11,
      "outputs": []
    },
    {
      "cell_type": "code",
      "metadata": {
        "id": "lnzSYjrqN65x"
      },
      "source": [
        "#alloting the test data and its target \n",
        "X_test = newsgroups_test.data\n",
        "y_test = newsgroups_test.target"
      ],
      "execution_count": 12,
      "outputs": []
    },
    {
      "cell_type": "code",
      "metadata": {
        "colab": {
          "base_uri": "https://localhost:8080/"
        },
        "id": "PAxzyEgPN_10",
        "outputId": "52222427-16cd-4052-c602-9ba2f58c4fe4"
      },
      "source": [
        "print(\"X_train is of type: \",type(X_train))\n",
        "print(\"y_train is of type: \",type(y_train))"
      ],
      "execution_count": 13,
      "outputs": [
        {
          "output_type": "stream",
          "text": [
            "X_train is of type:  <class 'list'>\n",
            "y_train is of type:  <class 'numpy.ndarray'>\n"
          ],
          "name": "stdout"
        }
      ]
    },
    {
      "cell_type": "code",
      "metadata": {
        "id": "cTwAI-e-OTqK"
      },
      "source": [
        " # tokenize the dataset, truncate when passed `max_length`, \n",
        "# and pad with 0's when less than `max_length`\n",
        "train_encodings = tokenizer(X_train, truncation=True, padding=True, max_length=512)\n",
        "valid_encodings = tokenizer(X_test, truncation=True, padding=True, max_length=512)"
      ],
      "execution_count": 14,
      "outputs": []
    },
    {
      "cell_type": "code",
      "metadata": {
        "id": "1aambeiUOYbM"
      },
      "source": [
        "class NewsGroupsDataset(torch.utils.data.Dataset):\n",
        "    def __init__(self, encodings, labels):\n",
        "        self.encodings = encodings\n",
        "        self.labels = labels\n",
        "\n",
        "    def __getitem__(self, idx):\n",
        "        item = {k: torch.tensor(v[idx]) for k, v in self.encodings.items()}\n",
        "        item[\"labels\"] = torch.tensor([self.labels[idx]])\n",
        "        return item\n",
        "\n",
        "    def __len__(self):\n",
        "        return len(self.labels)\n",
        "\n",
        "# convert our tokenized data into a torch Dataset\n",
        "train_dataset = NewsGroupsDataset(train_encodings, y_train)\n",
        "valid_dataset = NewsGroupsDataset(valid_encodings, y_test)"
      ],
      "execution_count": 15,
      "outputs": []
    },
    {
      "cell_type": "code",
      "metadata": {
        "colab": {
          "base_uri": "https://localhost:8080/",
          "height": 199,
          "referenced_widgets": [
            "a3367c89d149469b97ac267a6ff0a111",
            "8e23b2910d51458c9d4fa13456174cd8",
            "0b5f080a6b2c475f824819d82c0182dd",
            "a4f32b0e90db46e889a6b33f9cac55e9",
            "ee4dae6d54314da9961d031387982c3c",
            "7d3229ed495d4b49a7e1ca3c5efa78e7",
            "79156aa2641b41f3900d442250118202",
            "09f257e9f2de4a8b8ce5326787b47201",
            "123e3ee6a5064452a02ff9895b0191b5",
            "72d8d1861710436b8a5abd7da687e245",
            "2ab64705ed88451c8b7786afb1c09d2f",
            "825518b5a60c4ab38b9b2074d1f70112",
            "14ba811aacba411ea4f52f0b4571c988",
            "f957199b271248f9baf686011d1c981a",
            "871b9cbba91140f4a0b3f14298086e86",
            "c7b0c8bc91cc473b89b7b052a26ddcb3"
          ]
        },
        "id": "n0lUyLxJOcmO",
        "outputId": "dadc8d0d-6668-46c2-c551-f1197265b774"
      },
      "source": [
        "# load the model and pass to CUDA\n",
        "model = XLNetForSequenceClassification.from_pretrained(model_name, num_labels=len(newsgroups_train.target_names)).to(\"cuda\")"
      ],
      "execution_count": 16,
      "outputs": [
        {
          "output_type": "display_data",
          "data": {
            "application/vnd.jupyter.widget-view+json": {
              "model_id": "a3367c89d149469b97ac267a6ff0a111",
              "version_minor": 0,
              "version_major": 2
            },
            "text/plain": [
              "HBox(children=(FloatProgress(value=0.0, description='Downloading', max=760.0, style=ProgressStyle(description_…"
            ]
          },
          "metadata": {
            "tags": []
          }
        },
        {
          "output_type": "stream",
          "text": [
            "\n"
          ],
          "name": "stdout"
        },
        {
          "output_type": "display_data",
          "data": {
            "application/vnd.jupyter.widget-view+json": {
              "model_id": "123e3ee6a5064452a02ff9895b0191b5",
              "version_minor": 0,
              "version_major": 2
            },
            "text/plain": [
              "HBox(children=(FloatProgress(value=0.0, description='Downloading', max=467042463.0, style=ProgressStyle(descri…"
            ]
          },
          "metadata": {
            "tags": []
          }
        },
        {
          "output_type": "stream",
          "text": [
            "\n"
          ],
          "name": "stdout"
        },
        {
          "output_type": "stream",
          "text": [
            "Some weights of the model checkpoint at xlnet-base-cased were not used when initializing XLNetForSequenceClassification: ['lm_loss.weight', 'lm_loss.bias']\n",
            "- This IS expected if you are initializing XLNetForSequenceClassification from the checkpoint of a model trained on another task or with another architecture (e.g. initializing a BertForSequenceClassification model from a BertForPreTraining model).\n",
            "- This IS NOT expected if you are initializing XLNetForSequenceClassification from the checkpoint of a model that you expect to be exactly identical (initializing a BertForSequenceClassification model from a BertForSequenceClassification model).\n",
            "Some weights of XLNetForSequenceClassification were not initialized from the model checkpoint at xlnet-base-cased and are newly initialized: ['sequence_summary.summary.weight', 'sequence_summary.summary.bias', 'logits_proj.weight', 'logits_proj.bias']\n",
            "You should probably TRAIN this model on a down-stream task to be able to use it for predictions and inference.\n"
          ],
          "name": "stderr"
        }
      ]
    },
    {
      "cell_type": "code",
      "metadata": {
        "id": "0kUZcSljOdTH"
      },
      "source": [
        "def compute_metrics(pred):\n",
        "  labels = pred.label_ids\n",
        "  preds = pred.predictions.argmax(-1)\n",
        "  acc = metrics.accuracy_score(labels, preds)\n",
        "  f1score = metrics.f1_score(labels,preds, average='macro')\n",
        "  return { 'accuracy': acc,  'f1_score': f1score}"
      ],
      "execution_count": 17,
      "outputs": []
    },
    {
      "cell_type": "code",
      "metadata": {
        "id": "WSaNOGuNOwKc"
      },
      "source": [
        "trainer = Trainer(\n",
        "    model=model,                         # the instantiated Transformers model to be trained\n",
        "    train_dataset=train_dataset,         # training dataset\n",
        "    eval_dataset=valid_dataset,          # evaluation dataset\n",
        "    compute_metrics=compute_metrics,     # the callback that computes metrics of interest\n",
        ")"
      ],
      "execution_count": 18,
      "outputs": []
    },
    {
      "cell_type": "code",
      "metadata": {
        "colab": {
          "base_uri": "https://localhost:8080/",
          "height": 139
        },
        "id": "sJ7em4IPOyCb",
        "outputId": "144c8174-4d4e-4ac2-b247-9abbbae67dc3"
      },
      "source": [
        "trainer.train()"
      ],
      "execution_count": 19,
      "outputs": [
        {
          "output_type": "display_data",
          "data": {
            "text/html": [
              "\n",
              "    <div>\n",
              "        <style>\n",
              "            /* Turns off some styling */\n",
              "            progress {\n",
              "                /* gets rid of default border in Firefox and Opera. */\n",
              "                border: none;\n",
              "                /* Needs to be in here for Safari polyfill so background images work as expected. */\n",
              "                background-size: auto;\n",
              "            }\n",
              "        </style>\n",
              "      \n",
              "      <progress value='804' max='804' style='width:300px; height:20px; vertical-align: middle;'></progress>\n",
              "      [804/804 24:35, Epoch 3/3]\n",
              "    </div>\n",
              "    <table border=\"1\" class=\"dataframe\">\n",
              "  <thead>\n",
              "    <tr style=\"text-align: left;\">\n",
              "      <th>Step</th>\n",
              "      <th>Training Loss</th>\n",
              "    </tr>\n",
              "  </thead>\n",
              "  <tbody>\n",
              "    <tr>\n",
              "      <td>500</td>\n",
              "      <td>0.521200</td>\n",
              "    </tr>\n",
              "  </tbody>\n",
              "</table><p>"
            ],
            "text/plain": [
              "<IPython.core.display.HTML object>"
            ]
          },
          "metadata": {
            "tags": []
          }
        },
        {
          "output_type": "execute_result",
          "data": {
            "text/plain": [
              "TrainOutput(global_step=804, training_loss=0.40040313663767346, metrics={'train_runtime': 1477.5026, 'train_samples_per_second': 0.544, 'total_flos': 2310412055482368.0, 'epoch': 3.0, 'init_mem_cpu_alloc_delta': 724992, 'init_mem_gpu_alloc_delta': 0, 'init_mem_cpu_peaked_delta': 0, 'init_mem_gpu_peaked_delta': 0, 'train_mem_cpu_alloc_delta': 16670720, 'train_mem_gpu_alloc_delta': 1438158336, 'train_mem_cpu_peaked_delta': 0, 'train_mem_gpu_peaked_delta': 7634620416})"
            ]
          },
          "metadata": {
            "tags": []
          },
          "execution_count": 19
        }
      ]
    },
    {
      "cell_type": "code",
      "metadata": {
        "colab": {
          "base_uri": "https://localhost:8080/",
          "height": 206
        },
        "id": "yQfDzuKFO3oM",
        "outputId": "4313ddc4-709a-4474-e33c-fe4e1d4693bb"
      },
      "source": [
        "# evaluate the current model after training\n",
        "trainer.evaluate()"
      ],
      "execution_count": 20,
      "outputs": [
        {
          "output_type": "display_data",
          "data": {
            "text/html": [
              "\n",
              "    <div>\n",
              "        <style>\n",
              "            /* Turns off some styling */\n",
              "            progress {\n",
              "                /* gets rid of default border in Firefox and Opera. */\n",
              "                border: none;\n",
              "                /* Needs to be in here for Safari polyfill so background images work as expected. */\n",
              "                background-size: auto;\n",
              "            }\n",
              "        </style>\n",
              "      \n",
              "      <progress value='178' max='178' style='width:300px; height:20px; vertical-align: middle;'></progress>\n",
              "      [178/178 02:45]\n",
              "    </div>\n",
              "    "
            ],
            "text/plain": [
              "<IPython.core.display.HTML object>"
            ]
          },
          "metadata": {
            "tags": []
          }
        },
        {
          "output_type": "execute_result",
          "data": {
            "text/plain": [
              "{'epoch': 3.0,\n",
              " 'eval_accuracy': 0.7874736101337086,\n",
              " 'eval_f1_score': 0.7804894132496232,\n",
              " 'eval_loss': 0.9851990938186646,\n",
              " 'eval_mem_cpu_alloc_delta': 0,\n",
              " 'eval_mem_cpu_peaked_delta': 0,\n",
              " 'eval_mem_gpu_alloc_delta': 0,\n",
              " 'eval_mem_gpu_peaked_delta': 970181120,\n",
              " 'eval_runtime': 165.8575,\n",
              " 'eval_samples_per_second': 8.568}"
            ]
          },
          "metadata": {
            "tags": []
          },
          "execution_count": 20
        }
      ]
    },
    {
      "cell_type": "markdown",
      "metadata": {
        "id": "2nwHDMkwO-bQ"
      },
      "source": [
        "Now that we have performed text classification using XLnet\n",
        "The results are as follows\n",
        "> * 'eval_accuracy' :  0.7874736101337086"
      ]
    },
    {
      "cell_type": "code",
      "metadata": {
        "id": "Fm-VAdiWZUpn"
      },
      "source": [
        "test = \"\"\"\n",
        "A black hole is a place in space where gravity pulls so much that even light can not get out. \n",
        "The gravity is so strong because matter has been squeezed into a tiny space. This can happen when a star is dying.\n",
        "Because no light can get out, people can't see black holes. \n",
        "They are invisible. Space telescopes with special tools can help find black holes. \n",
        "The special tools can see how stars that are very close to black holes act differently than other stars.\n",
        "\"\"\""
      ],
      "execution_count": 21,
      "outputs": []
    },
    {
      "cell_type": "code",
      "metadata": {
        "colab": {
          "base_uri": "https://localhost:8080/"
        },
        "id": "q2KD0IWBZVo3",
        "outputId": "5af03b60-4cbb-4dd7-9e3b-6a04d3d485cf"
      },
      "source": [
        "def prediction(test):\n",
        "  inputs = tokenizer(test, padding=True, truncation=True, max_length=512, return_tensors=\"pt\").to(\"cuda\")\n",
        "  outputs = model(**inputs)\n",
        "  probs = outputs[0].softmax(1)\n",
        "  return newsgroups_train.target_names[probs.argmax()]\n",
        "\n",
        "print(\"predicted cateogry of test: \",prediction(test))"
      ],
      "execution_count": 22,
      "outputs": [
        {
          "output_type": "stream",
          "text": [
            "predicted cateogry of test:  sci.space\n"
          ],
          "name": "stdout"
        }
      ]
    },
    {
      "cell_type": "markdown",
      "metadata": {
        "id": "paILQSQOZj1q"
      },
      "source": [
        "#Data augmentation"
      ]
    },
    {
      "cell_type": "markdown",
      "metadata": {
        "id": "OL4P4gCxTh4b"
      },
      "source": [
        "The analogy to deep learning is that the rocket engine is the deep learning models and the fuel is the huge amounts of data we can feed to these algorithms. — Andrew Ng\n",
        "\n",
        "Incase where there is a imbalance in between the target variables the data augmentation methods can be used to balance the data\n",
        "\n",
        "Although there are many methods for doing data augmentation such as EDA(easy data augmentation) and back translation\n",
        "\n",
        "Now, lets use a python package called \"NLPaug\"\n"
      ]
    },
    {
      "cell_type": "markdown",
      "metadata": {
        "id": "0mpycXQcWe0Q"
      },
      "source": [
        "With NLPaug we can choose non-contextual embeddings or contextual ones as well"
      ]
    },
    {
      "cell_type": "code",
      "metadata": {
        "collapsed": true,
        "colab": {
          "base_uri": "https://localhost:8080/"
        },
        "id": "GkxFGvgpaBS4",
        "outputId": "06324343-b1fb-42f6-b015-844122db38c1"
      },
      "source": [
        "!pip install nlpaug"
      ],
      "execution_count": 23,
      "outputs": [
        {
          "output_type": "stream",
          "text": [
            "Collecting nlpaug\n",
            "\u001b[?25l  Downloading https://files.pythonhosted.org/packages/eb/f8/b11caecdd19aa2b1b2cb46c6cbbec692abd621aad884e653e459a8546add/nlpaug-1.1.3-py3-none-any.whl (394kB)\n",
            "\r\u001b[K     |▉                               | 10kB 23.0MB/s eta 0:00:01\r\u001b[K     |█▋                              | 20kB 29.2MB/s eta 0:00:01\r\u001b[K     |██▌                             | 30kB 21.3MB/s eta 0:00:01\r\u001b[K     |███▎                            | 40kB 24.8MB/s eta 0:00:01\r\u001b[K     |████▏                           | 51kB 16.7MB/s eta 0:00:01\r\u001b[K     |█████                           | 61kB 15.9MB/s eta 0:00:01\r\u001b[K     |█████▉                          | 71kB 15.4MB/s eta 0:00:01\r\u001b[K     |██████▋                         | 81kB 16.6MB/s eta 0:00:01\r\u001b[K     |███████▌                        | 92kB 15.0MB/s eta 0:00:01\r\u001b[K     |████████▎                       | 102kB 14.6MB/s eta 0:00:01\r\u001b[K     |█████████▏                      | 112kB 14.6MB/s eta 0:00:01\r\u001b[K     |██████████                      | 122kB 14.6MB/s eta 0:00:01\r\u001b[K     |██████████▉                     | 133kB 14.6MB/s eta 0:00:01\r\u001b[K     |███████████▋                    | 143kB 14.6MB/s eta 0:00:01\r\u001b[K     |████████████▌                   | 153kB 14.6MB/s eta 0:00:01\r\u001b[K     |█████████████▎                  | 163kB 14.6MB/s eta 0:00:01\r\u001b[K     |██████████████▏                 | 174kB 14.6MB/s eta 0:00:01\r\u001b[K     |███████████████                 | 184kB 14.6MB/s eta 0:00:01\r\u001b[K     |███████████████▉                | 194kB 14.6MB/s eta 0:00:01\r\u001b[K     |████████████████▋               | 204kB 14.6MB/s eta 0:00:01\r\u001b[K     |█████████████████▌              | 215kB 14.6MB/s eta 0:00:01\r\u001b[K     |██████████████████▎             | 225kB 14.6MB/s eta 0:00:01\r\u001b[K     |███████████████████▏            | 235kB 14.6MB/s eta 0:00:01\r\u001b[K     |████████████████████            | 245kB 14.6MB/s eta 0:00:01\r\u001b[K     |████████████████████▉           | 256kB 14.6MB/s eta 0:00:01\r\u001b[K     |█████████████████████▋          | 266kB 14.6MB/s eta 0:00:01\r\u001b[K     |██████████████████████▌         | 276kB 14.6MB/s eta 0:00:01\r\u001b[K     |███████████████████████▎        | 286kB 14.6MB/s eta 0:00:01\r\u001b[K     |████████████████████████        | 296kB 14.6MB/s eta 0:00:01\r\u001b[K     |█████████████████████████       | 307kB 14.6MB/s eta 0:00:01\r\u001b[K     |█████████████████████████▊      | 317kB 14.6MB/s eta 0:00:01\r\u001b[K     |██████████████████████████▋     | 327kB 14.6MB/s eta 0:00:01\r\u001b[K     |███████████████████████████▍    | 337kB 14.6MB/s eta 0:00:01\r\u001b[K     |████████████████████████████▎   | 348kB 14.6MB/s eta 0:00:01\r\u001b[K     |█████████████████████████████   | 358kB 14.6MB/s eta 0:00:01\r\u001b[K     |██████████████████████████████  | 368kB 14.6MB/s eta 0:00:01\r\u001b[K     |██████████████████████████████▊ | 378kB 14.6MB/s eta 0:00:01\r\u001b[K     |███████████████████████████████▋| 389kB 14.6MB/s eta 0:00:01\r\u001b[K     |████████████████████████████████| 399kB 14.6MB/s \n",
            "\u001b[?25hInstalling collected packages: nlpaug\n",
            "Successfully installed nlpaug-1.1.3\n"
          ],
          "name": "stdout"
        }
      ]
    },
    {
      "cell_type": "code",
      "metadata": {
        "id": "pZFSLgKWY57C"
      },
      "source": [
        "#lets import libraries\n",
        "import nlpaug.augmenter.char as nac\n",
        "import nlpaug.augmenter.word as naw"
      ],
      "execution_count": 24,
      "outputs": []
    },
    {
      "cell_type": "code",
      "metadata": {
        "id": "N2O5Bk1IZAlH"
      },
      "source": [
        "Original = 'The quick brown fox jumps over the lazy dog'"
      ],
      "execution_count": 25,
      "outputs": []
    },
    {
      "cell_type": "code",
      "metadata": {
        "id": "oPX8LIZObQoo"
      },
      "source": [
        "##Random Character Augmentation which is a type of character augmentation"
      ],
      "execution_count": 26,
      "outputs": []
    },
    {
      "cell_type": "code",
      "metadata": {
        "colab": {
          "base_uri": "https://localhost:8080/"
        },
        "id": "VA0c52Vya7TX",
        "outputId": "07964e7f-e6c7-4fc2-9835-b6696097cd0a"
      },
      "source": [
        "randaug = nac.RandomCharAug(action=\"insert\")\n",
        "augmented_text = randaug.augment(Original)\n",
        "print(\"Original Text: \", Original)\n",
        "print(\"Augmented Text:\", augmented_text)"
      ],
      "execution_count": 27,
      "outputs": [
        {
          "output_type": "stream",
          "text": [
            "Original Text:  The quick brown fox jumps over the lazy dog\n",
            "Augmented Text: The qufick brown fox jumps over the lRazy dog\n"
          ],
          "name": "stdout"
        }
      ]
    },
    {
      "cell_type": "code",
      "metadata": {
        "id": "iAa1bfP7bdjQ"
      },
      "source": [
        "##Spelling augmentation which is a type of word augmentation"
      ],
      "execution_count": 28,
      "outputs": []
    },
    {
      "cell_type": "code",
      "metadata": {
        "colab": {
          "base_uri": "https://localhost:8080/"
        },
        "id": "zLyESRNkbY2Y",
        "outputId": "ca02116d-b26e-4968-d907-da71b4c2b7d1"
      },
      "source": [
        "spellingaug = naw.SpellingAug()\n",
        "augmented_text = spellingaug.augment(Original, n=3)\n",
        "print(\"Original:\", Original)\n",
        "print(\"Augmented Texts:\", augmented_text)"
      ],
      "execution_count": 29,
      "outputs": [
        {
          "output_type": "stream",
          "text": [
            "Original: The quick brown fox jumps over the lazy dog\n",
            "Augmented Texts: ['Them quick brown fox jumps over the leazy dog', 'Tne quick brown fox jumps overt the lazy dog', 'The qchick brown fox jumps over the lazy djg']\n"
          ],
          "name": "stdout"
        }
      ]
    },
    {
      "cell_type": "code",
      "metadata": {
        "id": "-JaUAZGzcEtm"
      },
      "source": [
        "#Keyboard augmentation which is a type of character augmentation"
      ],
      "execution_count": 30,
      "outputs": []
    },
    {
      "cell_type": "code",
      "metadata": {
        "colab": {
          "base_uri": "https://localhost:8080/"
        },
        "id": "7dV2MnXNaP9U",
        "outputId": "7e4c3ce9-bfb2-4667-d3ac-5bcabe09eae4"
      },
      "source": [
        "keyboardaug = nac.KeyboardAug()\n",
        "augmented_text = keyboardaug.augment(Original)\n",
        "print(\"Original Text: \", Original)\n",
        "print(\"Augmented Text:\", augmented_text)"
      ],
      "execution_count": 31,
      "outputs": [
        {
          "output_type": "stream",
          "text": [
            "Original Text:  The quick brown fox jumps over the lazy dog\n",
            "Augmented Text: The quick bgown fox jumps ov#r the lazy dog\n"
          ],
          "name": "stdout"
        }
      ]
    },
    {
      "cell_type": "code",
      "metadata": {
        "id": "madUqijncORC"
      },
      "source": [
        "#Random word augmenation which is a part of word augmentation"
      ],
      "execution_count": 32,
      "outputs": []
    },
    {
      "cell_type": "code",
      "metadata": {
        "colab": {
          "base_uri": "https://localhost:8080/"
        },
        "id": "YMZm4FD2bwuC",
        "outputId": "e7124697-cf67-47ff-a2f7-322a9b3e4361"
      },
      "source": [
        "randomaug = naw.RandomWordAug()\n",
        "augmented_text = randomaug.augment(Original)\n",
        "print(\"Original Text: \", Original)\n",
        "print(\"Augmented Text:\", augmented_text)"
      ],
      "execution_count": 33,
      "outputs": [
        {
          "output_type": "stream",
          "text": [
            "Original Text:  The quick brown fox jumps over the lazy dog\n",
            "Augmented Text: The quick fox jumps over lazy dog\n"
          ],
          "name": "stdout"
        }
      ]
    },
    {
      "cell_type": "markdown",
      "metadata": {
        "id": "gHG02DXKvV2L"
      },
      "source": [
        "# Augmentation on our data set"
      ]
    },
    {
      "cell_type": "markdown",
      "metadata": {
        "id": "Xl7dO-2mccy2"
      },
      "source": [
        "Now coming back to our original challenge. Lets perform contextual augmenation on the given data"
      ]
    },
    {
      "cell_type": "code",
      "metadata": {
        "colab": {
          "base_uri": "https://localhost:8080/",
          "height": 319
        },
        "id": "0mHTl9RfcmWv",
        "outputId": "16c6814a-ed3c-4fc0-fc26-dc9956e9238a"
      },
      "source": [
        "#lets first see the count of each target value\n",
        "unique, counts = np.unique(y_train, return_counts=True)\n",
        "sns.barplot(unique, counts)\n",
        "plt.gca().set_ylabel('samples');"
      ],
      "execution_count": 34,
      "outputs": [
        {
          "output_type": "stream",
          "text": [
            "/usr/local/lib/python3.7/dist-packages/seaborn/_decorators.py:43: FutureWarning: Pass the following variables as keyword args: x, y. From version 0.12, the only valid positional argument will be `data`, and passing other arguments without an explicit keyword will result in an error or misinterpretation.\n",
            "  FutureWarning\n"
          ],
          "name": "stderr"
        },
        {
          "output_type": "display_data",
          "data": {
            "image/png": "[encoded data removed]",
            "text/plain": [
              "<Figure size 432x288 with 1 Axes>"
            ]
          },
          "metadata": {
            "tags": [],
            "needs_background": "light"
          }
        }
      ]
    },
    {
      "cell_type": "code",
      "metadata": {
        "colab": {
          "base_uri": "https://localhost:8080/"
        },
        "id": "QEpwZhwQcuva",
        "outputId": "5cd47449-cb53-479f-c518-62c2c898e74d"
      },
      "source": [
        "#and lets find out how many of them are less than a number say 550\n",
        "categories_less_than_550 = unique[counts<550].tolist()\n",
        "categories_less_than_550"
      ],
      "execution_count": 35,
      "outputs": [
        {
          "output_type": "execute_result",
          "data": {
            "text/plain": [
              "[0, 3]"
            ]
          },
          "metadata": {
            "tags": []
          },
          "execution_count": 35
        }
      ]
    },
    {
      "cell_type": "code",
      "metadata": {
        "colab": {
          "base_uri": "https://localhost:8080/"
        },
        "id": "RpR6obyfc2FB",
        "outputId": "dbbac859-53cf-4882-f848-d9df2f94313d"
      },
      "source": [
        "#lets now find out the difference between the count of these targets and 550\n",
        "difference = (550 - counts[categories_less_than_550]).tolist()\n",
        "difference"
      ],
      "execution_count": 36,
      "outputs": [
        {
          "output_type": "execute_result",
          "data": {
            "text/plain": [
              "[70, 85]"
            ]
          },
          "metadata": {
            "tags": []
          },
          "execution_count": 36
        }
      ]
    },
    {
      "cell_type": "code",
      "metadata": {
        "id": "DQYBnWqdc9Wk"
      },
      "source": [
        "#import the xlnet contextual embedding\n",
        "aug = naw.ContextualWordEmbsAug(model_path='xlnet-base-cased', model_type='xlnet',device = 'cuda')"
      ],
      "execution_count": 37,
      "outputs": []
    },
    {
      "cell_type": "code",
      "metadata": {
        "id": "mQh5wy54dEFU"
      },
      "source": [
        "X_augmented_train =X_train\n",
        "y_augmented_train = y_train"
      ],
      "execution_count": 38,
      "outputs": []
    },
    {
      "cell_type": "code",
      "metadata": {
        "colab": {
          "base_uri": "https://localhost:8080/"
        },
        "id": "12U2I8n-dHEJ",
        "outputId": "ca20cd9e-cb95-4d91-879d-1ed38137cb46"
      },
      "source": [
        "print(len(X_augmented_train))"
      ],
      "execution_count": 39,
      "outputs": [
        {
          "output_type": "stream",
          "text": [
            "2137\n"
          ],
          "name": "stdout"
        }
      ]
    },
    {
      "cell_type": "code",
      "metadata": {
        "colab": {
          "base_uri": "https://localhost:8080/"
        },
        "id": "RbWKvH2DdLYp",
        "outputId": "cc6239f2-bf68-4a72-f806-0e88556e05d3"
      },
      "source": [
        "print(len(y_augmented_train))"
      ],
      "execution_count": 40,
      "outputs": [
        {
          "output_type": "stream",
          "text": [
            "2137\n"
          ],
          "name": "stdout"
        }
      ]
    },
    {
      "cell_type": "code",
      "metadata": {
        "id": "Ab0qDINOdLzE"
      },
      "source": [
        "  augmentation_text_list = []\n",
        "  augmentation_index_list = []"
      ],
      "execution_count": 41,
      "outputs": []
    },
    {
      "cell_type": "markdown",
      "metadata": {
        "id": "esQyaMYne5hJ"
      },
      "source": [
        "import os\n",
        "os.environ[\"CUDA_DEVICE_ORDER\"] = \"PCI_BUS_ID\";\n",
        "os.environ[\"CUDA_VISIBLE_DEVICES\"]=\"0\";"
      ]
    },
    {
      "cell_type": "markdown",
      "metadata": {
        "id": "6cku_lu8fQfc"
      },
      "source": [
        "torch.cuda.empty_cache()"
      ]
    },
    {
      "cell_type": "code",
      "metadata": {
        "id": "mkTml4icdNFF"
      },
      "source": [
        "for ii in range(0,len(categories_less_than_550)):\n",
        "    result = [jj for jj, val in enumerate(y_augmented_train==categories_less_than_550[ii]) if val]\n",
        "    for kk in range(0,difference[ii]):\n",
        "      index = random.choice(result)\n",
        "      text = X_augmented_train[index]\n",
        "      aug.device = 'cuda'\n",
        "      augmented_data = aug.augment(text)\n",
        "      augmentation_text_list.append(augmented_data)\n",
        "      augmentation_index_list.append(categories_less_than_550[ii])"
      ],
      "execution_count": 42,
      "outputs": []
    },
    {
      "cell_type": "code",
      "metadata": {
        "id": "XqDTwLgndO3Y"
      },
      "source": [
        "y_augmented_train = y_augmented_train.tolist()"
      ],
      "execution_count": 43,
      "outputs": []
    },
    {
      "cell_type": "code",
      "metadata": {
        "colab": {
          "base_uri": "https://localhost:8080/"
        },
        "id": "7GXWpD0jdVbO",
        "outputId": "1f469424-7f8e-4cb0-9d9a-e73a1d55424a"
      },
      "source": [
        "type(y_augmented_train)"
      ],
      "execution_count": 44,
      "outputs": [
        {
          "output_type": "execute_result",
          "data": {
            "text/plain": [
              "list"
            ]
          },
          "metadata": {
            "tags": []
          },
          "execution_count": 44
        }
      ]
    },
    {
      "cell_type": "code",
      "metadata": {
        "id": "V-sCW9MEdW9W"
      },
      "source": [
        "  X_augmented_train.extend(augmentation_text_list)\n",
        "  y_augmented_train.extend(augmentation_index_list)"
      ],
      "execution_count": 45,
      "outputs": []
    },
    {
      "cell_type": "code",
      "metadata": {
        "colab": {
          "base_uri": "https://localhost:8080/"
        },
        "id": "WUIICxTldaoP",
        "outputId": "d0ace594-f4b2-4094-b7e2-8c01a89ae992"
      },
      "source": [
        "print(len(X_augmented_train))"
      ],
      "execution_count": 46,
      "outputs": [
        {
          "output_type": "stream",
          "text": [
            "2292\n"
          ],
          "name": "stdout"
        }
      ]
    },
    {
      "cell_type": "code",
      "metadata": {
        "colab": {
          "base_uri": "https://localhost:8080/"
        },
        "id": "4rTYGbSqdcK5",
        "outputId": "7bdb34fe-9da8-4c00-98d4-dd83b9df6c12"
      },
      "source": [
        "print(len(y_augmented_train))"
      ],
      "execution_count": 47,
      "outputs": [
        {
          "output_type": "stream",
          "text": [
            "2292\n"
          ],
          "name": "stdout"
        }
      ]
    },
    {
      "cell_type": "code",
      "metadata": {
        "id": "sKB6J8QrdduT"
      },
      "source": [
        "train_encodings = tokenizer(X_augmented_train, truncation=True, padding=True, max_length=512)\n",
        "valid_encodings = tokenizer(X_test, truncation=True, padding=True, max_length=512)"
      ],
      "execution_count": 48,
      "outputs": []
    },
    {
      "cell_type": "code",
      "metadata": {
        "id": "zxW4jj62dixH"
      },
      "source": [
        "class NewsGroupsDataset(torch.utils.data.Dataset):\n",
        "    def __init__(self, encodings, labels):\n",
        "        self.encodings = encodings\n",
        "        self.labels = labels\n",
        "\n",
        "    def __getitem__(self, idx):\n",
        "        item = {k: torch.tensor(v[idx]) for k, v in self.encodings.items()}\n",
        "        item[\"labels\"] = torch.tensor([self.labels[idx]])\n",
        "        return item\n",
        "\n",
        "    def __len__(self):\n",
        "        return len(self.labels)\n",
        "\n",
        "# convert our tokenized data into a torch Dataset\n",
        "train_dataset = NewsGroupsDataset(train_encodings, y_augmented_train)\n",
        "valid_dataset = NewsGroupsDataset(valid_encodings, y_test)"
      ],
      "execution_count": 49,
      "outputs": []
    },
    {
      "cell_type": "code",
      "metadata": {
        "colab": {
          "base_uri": "https://localhost:8080/"
        },
        "id": "5JAx4NC9dkgH",
        "outputId": "715817f4-32b1-4c15-ba0f-61dd9d2aaebd"
      },
      "source": [
        "# load the model and pass to CUDA\n",
        "model = XLNetForSequenceClassification.from_pretrained(model_name, num_labels=len(newsgroups_train.target_names)).to(\"cuda\")"
      ],
      "execution_count": 50,
      "outputs": [
        {
          "output_type": "stream",
          "text": [
            "Some weights of the model checkpoint at xlnet-base-cased were not used when initializing XLNetForSequenceClassification: ['lm_loss.weight', 'lm_loss.bias']\n",
            "- This IS expected if you are initializing XLNetForSequenceClassification from the checkpoint of a model trained on another task or with another architecture (e.g. initializing a BertForSequenceClassification model from a BertForPreTraining model).\n",
            "- This IS NOT expected if you are initializing XLNetForSequenceClassification from the checkpoint of a model that you expect to be exactly identical (initializing a BertForSequenceClassification model from a BertForSequenceClassification model).\n",
            "Some weights of XLNetForSequenceClassification were not initialized from the model checkpoint at xlnet-base-cased and are newly initialized: ['sequence_summary.summary.weight', 'sequence_summary.summary.bias', 'logits_proj.weight', 'logits_proj.bias']\n",
            "You should probably TRAIN this model on a down-stream task to be able to use it for predictions and inference.\n"
          ],
          "name": "stderr"
        }
      ]
    },
    {
      "cell_type": "code",
      "metadata": {
        "id": "q_jft7-xdl_W"
      },
      "source": [
        "from sklearn import metrics\n",
        "\n",
        "def compute_metrics(pred):\n",
        "  labels = pred.label_ids\n",
        "  preds = pred.predictions.argmax(-1)\n",
        "  acc = metrics.accuracy_score(labels, preds)\n",
        "  f1score = metrics.f1_score(labels,preds, average='macro')\n",
        "  return { 'accuracy': acc,  'f1_score': f1score}"
      ],
      "execution_count": 51,
      "outputs": []
    },
    {
      "cell_type": "code",
      "metadata": {
        "id": "hpKDhY12dn6e"
      },
      "source": [
        "trainer = Trainer(\n",
        "    model=model,                         # the instantiated Transformers model to be trained\n",
        "    train_dataset=train_dataset,         # training dataset\n",
        "    eval_dataset=valid_dataset,          # evaluation dataset\n",
        "    compute_metrics=compute_metrics,     # the callback that computes metrics of interest\n",
        ")"
      ],
      "execution_count": 52,
      "outputs": []
    },
    {
      "cell_type": "code",
      "metadata": {
        "colab": {
          "base_uri": "https://localhost:8080/",
          "height": 139
        },
        "id": "nY97Ld7idpfX",
        "outputId": "ddb62346-9fc0-4826-937e-654d78e65c15"
      },
      "source": [
        "trainer.train()"
      ],
      "execution_count": 53,
      "outputs": [
        {
          "output_type": "display_data",
          "data": {
            "text/html": [
              "\n",
              "    <div>\n",
              "        <style>\n",
              "            /* Turns off some styling */\n",
              "            progress {\n",
              "                /* gets rid of default border in Firefox and Opera. */\n",
              "                border: none;\n",
              "                /* Needs to be in here for Safari polyfill so background images work as expected. */\n",
              "                background-size: auto;\n",
              "            }\n",
              "        </style>\n",
              "      \n",
              "      <progress value='861' max='861' style='width:300px; height:20px; vertical-align: middle;'></progress>\n",
              "      [861/861 26:15, Epoch 3/3]\n",
              "    </div>\n",
              "    <table border=\"1\" class=\"dataframe\">\n",
              "  <thead>\n",
              "    <tr style=\"text-align: left;\">\n",
              "      <th>Step</th>\n",
              "      <th>Training Loss</th>\n",
              "    </tr>\n",
              "  </thead>\n",
              "  <tbody>\n",
              "    <tr>\n",
              "      <td>500</td>\n",
              "      <td>0.578300</td>\n",
              "    </tr>\n",
              "  </tbody>\n",
              "</table><p>"
            ],
            "text/plain": [
              "<IPython.core.display.HTML object>"
            ]
          },
          "metadata": {
            "tags": []
          }
        },
        {
          "output_type": "execute_result",
          "data": {
            "text/plain": [
              "TrainOutput(global_step=861, training_loss=0.4340455678835702, metrics={'train_runtime': 1577.138, 'train_samples_per_second': 0.546, 'total_flos': 2477989906956288.0, 'epoch': 3.0, 'init_mem_cpu_alloc_delta': 0, 'init_mem_gpu_alloc_delta': 0, 'init_mem_cpu_peaked_delta': 0, 'init_mem_gpu_peaked_delta': 0, 'train_mem_cpu_alloc_delta': -94195712, 'train_mem_gpu_alloc_delta': 1437933056, 'train_mem_cpu_peaked_delta': 95997952, 'train_mem_gpu_peaked_delta': 7627505664})"
            ]
          },
          "metadata": {
            "tags": []
          },
          "execution_count": 53
        }
      ]
    },
    {
      "cell_type": "code",
      "metadata": {
        "colab": {
          "base_uri": "https://localhost:8080/",
          "height": 206
        },
        "id": "dY5h06mpdqvs",
        "outputId": "36e10803-b33b-4e7e-d719-7d40eac56efe"
      },
      "source": [
        "# evaluate the current model after training\n",
        "trainer.evaluate()"
      ],
      "execution_count": 54,
      "outputs": [
        {
          "output_type": "display_data",
          "data": {
            "text/html": [
              "\n",
              "    <div>\n",
              "        <style>\n",
              "            /* Turns off some styling */\n",
              "            progress {\n",
              "                /* gets rid of default border in Firefox and Opera. */\n",
              "                border: none;\n",
              "                /* Needs to be in here for Safari polyfill so background images work as expected. */\n",
              "                background-size: auto;\n",
              "            }\n",
              "        </style>\n",
              "      \n",
              "      <progress value='178' max='178' style='width:300px; height:20px; vertical-align: middle;'></progress>\n",
              "      [178/178 02:43]\n",
              "    </div>\n",
              "    "
            ],
            "text/plain": [
              "<IPython.core.display.HTML object>"
            ]
          },
          "metadata": {
            "tags": []
          }
        },
        {
          "output_type": "execute_result",
          "data": {
            "text/plain": [
              "{'epoch': 3.0,\n",
              " 'eval_accuracy': 0.7923997185080929,\n",
              " 'eval_f1_score': 0.7820251117891948,\n",
              " 'eval_loss': 1.054348111152649,\n",
              " 'eval_mem_cpu_alloc_delta': 163840,\n",
              " 'eval_mem_cpu_peaked_delta': 0,\n",
              " 'eval_mem_gpu_alloc_delta': 0,\n",
              " 'eval_mem_gpu_peaked_delta': 894673920,\n",
              " 'eval_runtime': 164.4913,\n",
              " 'eval_samples_per_second': 8.639}"
            ]
          },
          "metadata": {
            "tags": []
          },
          "execution_count": 54
        }
      ]
    },
    {
      "cell_type": "markdown",
      "metadata": {
        "id": "AmDyPVG6t9Z6"
      },
      "source": [
        "Now that we have performed text classification using XLnet\n",
        "The results are as follows\n",
        "> * 'eval_accuracy' :   0.7923997185080929"
      ]
    },
    {
      "cell_type": "code",
      "metadata": {
        "id": "xiR6Aj1AuH-R"
      },
      "source": [
        ""
      ],
      "execution_count": 54,
      "outputs": []
    },
    {
      "cell_type": "markdown",
      "metadata": {
        "id": "uyekuBaKuEd2"
      },
      "source": [
        "Accuracy score comparison:\n",
        "\n",
        ">  Before augmentation :   0.7874736101337086         \n",
        ">  After augmentation    :   0.7923997185080929"
      ]
    },
    {
      "cell_type": "markdown",
      "metadata": {
        "id": "WNChCtFruibX"
      },
      "source": [
        "# Final thoughts"
      ]
    },
    {
      "cell_type": "markdown",
      "metadata": {
        "id": "guJg8lsrwCYM"
      },
      "source": [
        "Considering the fact that we have trained the data set on the limited set of categories and the fact the we have used augmentation only limited number of times because of the limited set of resources, the improvement of accuracy shows us that Data augmentation works to improve accuracy"
      ]
    },
    {
      "cell_type": "code",
      "metadata": {
        "id": "Qx293QjWwwEM"
      },
      "source": [
        ""
      ],
      "execution_count": null,
      "outputs": []
    }
  ]
}